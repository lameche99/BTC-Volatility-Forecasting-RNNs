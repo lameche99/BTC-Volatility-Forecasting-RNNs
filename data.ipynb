{
 "cells": [
  {
   "cell_type": "code",
   "execution_count": 1,
   "metadata": {},
   "outputs": [
    {
     "name": "stderr",
     "output_type": "stream",
     "text": [
      "2023-11-27 01:54:34.146964: I tensorflow/core/platform/cpu_feature_guard.cc:182] This TensorFlow binary is optimized to use available CPU instructions in performance-critical operations.\n",
      "To enable the following instructions: AVX2 FMA, in other operations, rebuild TensorFlow with the appropriate compiler flags.\n",
      "/opt/miniconda3/envs/fintech/lib/python3.10/site-packages/tqdm/auto.py:21: TqdmWarning: IProgress not found. Please update jupyter and ipywidgets. See https://ipywidgets.readthedocs.io/en/stable/user_install.html\n",
      "  from .autonotebook import tqdm as notebook_tqdm\n"
     ]
    }
   ],
   "source": [
    "import pandas as pd\n",
    "import numpy as np\n",
    "import sqlite3\n",
    "import nltk\n",
    "from nltk.sentiment.vader import SentimentIntensityAnalyzer\n",
    "from model import get_optimized_parameters, test_model, invPred, create_study, calculate_RV"
   ]
  },
  {
   "cell_type": "code",
   "execution_count": 2,
   "metadata": {},
   "outputs": [],
   "source": [
    "timeline = pd.read_csv('./crypto_reg_timeline.csv')\n",
    "timeline['Date'] = pd.to_datetime(timeline['Date'], format='%Y%m%d')"
   ]
  },
  {
   "cell_type": "code",
   "execution_count": 3,
   "metadata": {},
   "outputs": [
    {
     "data": {
      "text/html": [
       "<div>\n",
       "<style scoped>\n",
       "    .dataframe tbody tr th:only-of-type {\n",
       "        vertical-align: middle;\n",
       "    }\n",
       "\n",
       "    .dataframe tbody tr th {\n",
       "        vertical-align: top;\n",
       "    }\n",
       "\n",
       "    .dataframe thead th {\n",
       "        text-align: right;\n",
       "    }\n",
       "</style>\n",
       "<table border=\"1\" class=\"dataframe\">\n",
       "  <thead>\n",
       "    <tr style=\"text-align: right;\">\n",
       "      <th></th>\n",
       "      <th>Date</th>\n",
       "      <th>Country/Region</th>\n",
       "      <th>Topic</th>\n",
       "    </tr>\n",
       "  </thead>\n",
       "  <tbody>\n",
       "    <tr>\n",
       "      <th>19</th>\n",
       "      <td>2022-11-02</td>\n",
       "      <td>SP</td>\n",
       "      <td>First DeFi trades in wholesale markets of gove...</td>\n",
       "    </tr>\n",
       "    <tr>\n",
       "      <th>20</th>\n",
       "      <td>2022-12-16</td>\n",
       "      <td>Global</td>\n",
       "      <td>BCBS final standard on prudential treatment fo...</td>\n",
       "    </tr>\n",
       "    <tr>\n",
       "      <th>21</th>\n",
       "      <td>2023-01-27</td>\n",
       "      <td>US</td>\n",
       "      <td>FED wants to limit activitiy of SMBs from hold...</td>\n",
       "    </tr>\n",
       "    <tr>\n",
       "      <th>22</th>\n",
       "      <td>2023-03-12</td>\n",
       "      <td>US</td>\n",
       "      <td>SVB and Signature Bank crash</td>\n",
       "    </tr>\n",
       "    <tr>\n",
       "      <th>23</th>\n",
       "      <td>2023-06-29</td>\n",
       "      <td>EU</td>\n",
       "      <td>EU Parliament issued MiCAr legislation on cryp...</td>\n",
       "    </tr>\n",
       "  </tbody>\n",
       "</table>\n",
       "</div>"
      ],
      "text/plain": [
       "         Date Country/Region  \\\n",
       "19 2022-11-02             SP   \n",
       "20 2022-12-16         Global   \n",
       "21 2023-01-27             US   \n",
       "22 2023-03-12             US   \n",
       "23 2023-06-29             EU   \n",
       "\n",
       "                                                Topic  \n",
       "19  First DeFi trades in wholesale markets of gove...  \n",
       "20  BCBS final standard on prudential treatment fo...  \n",
       "21  FED wants to limit activitiy of SMBs from hold...  \n",
       "22                       SVB and Signature Bank crash  \n",
       "23  EU Parliament issued MiCAr legislation on cryp...  "
      ]
     },
     "execution_count": 3,
     "metadata": {},
     "output_type": "execute_result"
    }
   ],
   "source": [
    "timeline.tail()"
   ]
  },
  {
   "cell_type": "code",
   "execution_count": 4,
   "metadata": {},
   "outputs": [
    {
     "data": {
      "text/html": [
       "<div>\n",
       "<style scoped>\n",
       "    .dataframe tbody tr th:only-of-type {\n",
       "        vertical-align: middle;\n",
       "    }\n",
       "\n",
       "    .dataframe tbody tr th {\n",
       "        vertical-align: top;\n",
       "    }\n",
       "\n",
       "    .dataframe thead th {\n",
       "        text-align: right;\n",
       "    }\n",
       "</style>\n",
       "<table border=\"1\" class=\"dataframe\">\n",
       "  <thead>\n",
       "    <tr style=\"text-align: right;\">\n",
       "      <th></th>\n",
       "      <th>user_name</th>\n",
       "      <th>user_location</th>\n",
       "      <th>user_description</th>\n",
       "      <th>user_created</th>\n",
       "      <th>user_followers</th>\n",
       "      <th>user_friends</th>\n",
       "      <th>user_favourites</th>\n",
       "      <th>user_verified</th>\n",
       "      <th>date</th>\n",
       "      <th>text</th>\n",
       "      <th>hashtags</th>\n",
       "      <th>source</th>\n",
       "      <th>is_retweet</th>\n",
       "    </tr>\n",
       "  </thead>\n",
       "  <tbody>\n",
       "    <tr>\n",
       "      <th>0</th>\n",
       "      <td>ChefSam</td>\n",
       "      <td>Sunshine State</td>\n",
       "      <td>Culinarian | Hot Sauce Artisan | Kombucha Brew...</td>\n",
       "      <td>2011-03-23 03:50:13</td>\n",
       "      <td>4680</td>\n",
       "      <td>2643</td>\n",
       "      <td>6232</td>\n",
       "      <td>False</td>\n",
       "      <td>2023-03-01 23:59:59</td>\n",
       "      <td>Which #bitcoin books should I think about read...</td>\n",
       "      <td>['bitcoin']</td>\n",
       "      <td>Twitter for iPhone</td>\n",
       "      <td>False</td>\n",
       "    </tr>\n",
       "    <tr>\n",
       "      <th>1</th>\n",
       "      <td>Roy⚡️</td>\n",
       "      <td>NaN</td>\n",
       "      <td>Truth-seeking pleb 📚 • Science 🧪 • Nature 🌱☀️ ...</td>\n",
       "      <td>2022-01-30 17:41:41</td>\n",
       "      <td>770</td>\n",
       "      <td>1145</td>\n",
       "      <td>9166</td>\n",
       "      <td>False</td>\n",
       "      <td>2023-03-01 23:59:47</td>\n",
       "      <td>@ThankGodForBTC I appreciate the message, but ...</td>\n",
       "      <td>['Bitcoin']</td>\n",
       "      <td>Twitter for iPhone</td>\n",
       "      <td>False</td>\n",
       "    </tr>\n",
       "    <tr>\n",
       "      <th>2</th>\n",
       "      <td>Ethereum Yoda</td>\n",
       "      <td>NaN</td>\n",
       "      <td>UP or DOWN...\\n.\\n.\\n.\\n.\\nPrice matters NOT.</td>\n",
       "      <td>2022-07-24 04:50:18</td>\n",
       "      <td>576</td>\n",
       "      <td>1</td>\n",
       "      <td>0</td>\n",
       "      <td>False</td>\n",
       "      <td>2023-03-01 23:59:42</td>\n",
       "      <td>#Ethereum price update: \\n\\n#ETH $1664.02 USD\\...</td>\n",
       "      <td>['Ethereum', 'ETH', 'Bitcoin', 'BTC', 'altcoin...</td>\n",
       "      <td>Twitter Web App</td>\n",
       "      <td>False</td>\n",
       "    </tr>\n",
       "    <tr>\n",
       "      <th>3</th>\n",
       "      <td>Viction</td>\n",
       "      <td>Paris, France</td>\n",
       "      <td>https://t.co/8M3rgdjwEe\\n\\n#bitcoin #blockchai...</td>\n",
       "      <td>2010-03-26 10:15:26</td>\n",
       "      <td>236</td>\n",
       "      <td>1829</td>\n",
       "      <td>2195</td>\n",
       "      <td>False</td>\n",
       "      <td>2023-03-01 23:59:36</td>\n",
       "      <td>CoinDashboard v3.0 is here\\nAvailable on ios a...</td>\n",
       "      <td>['Bitcoin']</td>\n",
       "      <td>Twitter for Android</td>\n",
       "      <td>False</td>\n",
       "    </tr>\n",
       "    <tr>\n",
       "      <th>4</th>\n",
       "      <td>Rosie</td>\n",
       "      <td>London</td>\n",
       "      <td>The flower language of jasmine is loyalty, res...</td>\n",
       "      <td>2013-02-16 09:57:56</td>\n",
       "      <td>12731</td>\n",
       "      <td>46</td>\n",
       "      <td>134</td>\n",
       "      <td>False</td>\n",
       "      <td>2023-03-01 23:59:32</td>\n",
       "      <td>#Bitcoin Short Term Fractal (4H)💥\\n\\nIn lower ...</td>\n",
       "      <td>['Bitcoin', 'BTC']</td>\n",
       "      <td>Twitter Web App</td>\n",
       "      <td>False</td>\n",
       "    </tr>\n",
       "  </tbody>\n",
       "</table>\n",
       "</div>"
      ],
      "text/plain": [
       "       user_name   user_location  \\\n",
       "0        ChefSam  Sunshine State   \n",
       "1          Roy⚡️             NaN   \n",
       "2  Ethereum Yoda             NaN   \n",
       "3        Viction   Paris, France   \n",
       "4          Rosie          London   \n",
       "\n",
       "                                    user_description         user_created  \\\n",
       "0  Culinarian | Hot Sauce Artisan | Kombucha Brew...  2011-03-23 03:50:13   \n",
       "1  Truth-seeking pleb 📚 • Science 🧪 • Nature 🌱☀️ ...  2022-01-30 17:41:41   \n",
       "2      UP or DOWN...\\n.\\n.\\n.\\n.\\nPrice matters NOT.  2022-07-24 04:50:18   \n",
       "3  https://t.co/8M3rgdjwEe\\n\\n#bitcoin #blockchai...  2010-03-26 10:15:26   \n",
       "4  The flower language of jasmine is loyalty, res...  2013-02-16 09:57:56   \n",
       "\n",
       "   user_followers  user_friends  user_favourites  user_verified  \\\n",
       "0            4680          2643             6232          False   \n",
       "1             770          1145             9166          False   \n",
       "2             576             1                0          False   \n",
       "3             236          1829             2195          False   \n",
       "4           12731            46              134          False   \n",
       "\n",
       "                  date                                               text  \\\n",
       "0  2023-03-01 23:59:59  Which #bitcoin books should I think about read...   \n",
       "1  2023-03-01 23:59:47  @ThankGodForBTC I appreciate the message, but ...   \n",
       "2  2023-03-01 23:59:42  #Ethereum price update: \\n\\n#ETH $1664.02 USD\\...   \n",
       "3  2023-03-01 23:59:36  CoinDashboard v3.0 is here\\nAvailable on ios a...   \n",
       "4  2023-03-01 23:59:32  #Bitcoin Short Term Fractal (4H)💥\\n\\nIn lower ...   \n",
       "\n",
       "                                            hashtags               source  \\\n",
       "0                                        ['bitcoin']   Twitter for iPhone   \n",
       "1                                        ['Bitcoin']   Twitter for iPhone   \n",
       "2  ['Ethereum', 'ETH', 'Bitcoin', 'BTC', 'altcoin...      Twitter Web App   \n",
       "3                                        ['Bitcoin']  Twitter for Android   \n",
       "4                                 ['Bitcoin', 'BTC']      Twitter Web App   \n",
       "\n",
       "   is_retweet  \n",
       "0       False  \n",
       "1       False  \n",
       "2       False  \n",
       "3       False  \n",
       "4       False  "
      ]
     },
     "execution_count": 4,
     "metadata": {},
     "output_type": "execute_result"
    }
   ],
   "source": [
    "tweets = pd.read_csv('Bitcoin_tweets_dataset_2.csv', lineterminator='\\n')\n",
    "tweets.head()"
   ]
  },
  {
   "cell_type": "code",
   "execution_count": 5,
   "metadata": {},
   "outputs": [],
   "source": [
    "# tweets['date'] = tweets['date'].str[:10]\n",
    "tweets['date'] = pd.to_datetime(tweets['date'], format='%Y-%m-%d %H:%M:%S')\n",
    "tweets.sort_values(by='date', ascending=False, inplace=True)\n",
    "# tweets.rename(columns={'date': 'Date'}, inplace=True)\n",
    "\n",
    "# merged_df = pd.merge(timeline, tweets, on='Date', how='inner')"
   ]
  },
  {
   "cell_type": "code",
   "execution_count": 6,
   "metadata": {},
   "outputs": [
    {
     "name": "stderr",
     "output_type": "stream",
     "text": [
      "[nltk_data] Downloading package vader_lexicon to\n",
      "[nltk_data]     /Users/MicheleOrlandi/nltk_data...\n",
      "[nltk_data]   Package vader_lexicon is already up-to-date!\n"
     ]
    }
   ],
   "source": [
    "#sentiment analysis for postive or negative\n",
    "nltk.download('vader_lexicon')\n",
    "\n",
    "def get_sentiment(text):\n",
    "    analyzer = SentimentIntensityAnalyzer()\n",
    "    sentiment = analyzer.polarity_scores(text)\n",
    "    return sentiment['compound']\n",
    "    \n",
    "tweets['sentiment_score'] = tweets['text'].apply(get_sentiment)"
   ]
  },
  {
   "cell_type": "code",
   "execution_count": 7,
   "metadata": {},
   "outputs": [],
   "source": [
    "tweets_clean = tweets.groupby(pd.Grouper(key='date', freq='15min')).agg({'sentiment_score': 'mean'}).reset_index()\n",
    "tweets_clean['date'] = pd.to_datetime(tweets_clean['date'], format='%Y-%m-%d %H:%M:%S')"
   ]
  },
  {
   "cell_type": "code",
   "execution_count": 8,
   "metadata": {},
   "outputs": [
    {
     "data": {
      "text/html": [
       "<div>\n",
       "<style scoped>\n",
       "    .dataframe tbody tr th:only-of-type {\n",
       "        vertical-align: middle;\n",
       "    }\n",
       "\n",
       "    .dataframe tbody tr th {\n",
       "        vertical-align: top;\n",
       "    }\n",
       "\n",
       "    .dataframe thead th {\n",
       "        text-align: right;\n",
       "    }\n",
       "</style>\n",
       "<table border=\"1\" class=\"dataframe\">\n",
       "  <thead>\n",
       "    <tr style=\"text-align: right;\">\n",
       "      <th></th>\n",
       "      <th>date</th>\n",
       "      <th>sentiment_score</th>\n",
       "    </tr>\n",
       "  </thead>\n",
       "  <tbody>\n",
       "    <tr>\n",
       "      <th>0</th>\n",
       "      <td>2023-02-25 20:45:00</td>\n",
       "      <td>0.172491</td>\n",
       "    </tr>\n",
       "    <tr>\n",
       "      <th>1</th>\n",
       "      <td>2023-02-25 21:00:00</td>\n",
       "      <td>0.140640</td>\n",
       "    </tr>\n",
       "    <tr>\n",
       "      <th>2</th>\n",
       "      <td>2023-02-25 21:15:00</td>\n",
       "      <td>0.093906</td>\n",
       "    </tr>\n",
       "    <tr>\n",
       "      <th>3</th>\n",
       "      <td>2023-02-25 21:30:00</td>\n",
       "      <td>0.133207</td>\n",
       "    </tr>\n",
       "    <tr>\n",
       "      <th>4</th>\n",
       "      <td>2023-02-25 21:45:00</td>\n",
       "      <td>0.145924</td>\n",
       "    </tr>\n",
       "  </tbody>\n",
       "</table>\n",
       "</div>"
      ],
      "text/plain": [
       "                 date  sentiment_score\n",
       "0 2023-02-25 20:45:00         0.172491\n",
       "1 2023-02-25 21:00:00         0.140640\n",
       "2 2023-02-25 21:15:00         0.093906\n",
       "3 2023-02-25 21:30:00         0.133207\n",
       "4 2023-02-25 21:45:00         0.145924"
      ]
     },
     "execution_count": 8,
     "metadata": {},
     "output_type": "execute_result"
    }
   ],
   "source": [
    "tweets_clean.head()"
   ]
  },
  {
   "cell_type": "code",
   "execution_count": 9,
   "metadata": {},
   "outputs": [],
   "source": [
    "engine = sqlite3.connect('./btc-data.db')\n",
    "btc = pd.read_sql('SELECT * FROM BTCUSD', engine)"
   ]
  },
  {
   "cell_type": "code",
   "execution_count": 10,
   "metadata": {},
   "outputs": [
    {
     "data": {
      "text/html": [
       "<div>\n",
       "<style scoped>\n",
       "    .dataframe tbody tr th:only-of-type {\n",
       "        vertical-align: middle;\n",
       "    }\n",
       "\n",
       "    .dataframe tbody tr th {\n",
       "        vertical-align: top;\n",
       "    }\n",
       "\n",
       "    .dataframe thead th {\n",
       "        text-align: right;\n",
       "    }\n",
       "</style>\n",
       "<table border=\"1\" class=\"dataframe\">\n",
       "  <thead>\n",
       "    <tr style=\"text-align: right;\">\n",
       "      <th></th>\n",
       "      <th>date</th>\n",
       "      <th>open</th>\n",
       "      <th>high</th>\n",
       "      <th>low</th>\n",
       "      <th>close</th>\n",
       "      <th>volume</th>\n",
       "      <th>transactions</th>\n",
       "      <th>log</th>\n",
       "      <th>logRet</th>\n",
       "    </tr>\n",
       "  </thead>\n",
       "  <tbody>\n",
       "    <tr>\n",
       "      <th>0</th>\n",
       "      <td>2020-01-01 00:15:00</td>\n",
       "      <td>7182.78</td>\n",
       "      <td>7198.400000</td>\n",
       "      <td>7151.60</td>\n",
       "      <td>7157.00</td>\n",
       "      <td>225.209649</td>\n",
       "      <td>790</td>\n",
       "      <td>8.875846</td>\n",
       "      <td>-0.000172</td>\n",
       "    </tr>\n",
       "    <tr>\n",
       "      <th>1</th>\n",
       "      <td>2020-01-01 00:30:00</td>\n",
       "      <td>7194.20</td>\n",
       "      <td>7200.004497</td>\n",
       "      <td>7155.00</td>\n",
       "      <td>7155.72</td>\n",
       "      <td>84.017938</td>\n",
       "      <td>617</td>\n",
       "      <td>8.875667</td>\n",
       "      <td>-0.000179</td>\n",
       "    </tr>\n",
       "    <tr>\n",
       "      <th>2</th>\n",
       "      <td>2020-01-01 00:45:00</td>\n",
       "      <td>7158.20</td>\n",
       "      <td>7201.900000</td>\n",
       "      <td>7149.25</td>\n",
       "      <td>7155.70</td>\n",
       "      <td>187.857548</td>\n",
       "      <td>809</td>\n",
       "      <td>8.875665</td>\n",
       "      <td>-0.000003</td>\n",
       "    </tr>\n",
       "    <tr>\n",
       "      <th>3</th>\n",
       "      <td>2020-01-01 01:00:00</td>\n",
       "      <td>7150.65</td>\n",
       "      <td>7206.100000</td>\n",
       "      <td>7147.18</td>\n",
       "      <td>7167.34</td>\n",
       "      <td>336.479456</td>\n",
       "      <td>729</td>\n",
       "      <td>8.877290</td>\n",
       "      <td>0.001625</td>\n",
       "    </tr>\n",
       "    <tr>\n",
       "      <th>4</th>\n",
       "      <td>2020-01-01 01:15:00</td>\n",
       "      <td>7192.40</td>\n",
       "      <td>7226.100000</td>\n",
       "      <td>7163.92</td>\n",
       "      <td>7186.60</td>\n",
       "      <td>410.926622</td>\n",
       "      <td>968</td>\n",
       "      <td>8.879973</td>\n",
       "      <td>0.002684</td>\n",
       "    </tr>\n",
       "  </tbody>\n",
       "</table>\n",
       "</div>"
      ],
      "text/plain": [
       "                  date     open         high      low    close      volume  \\\n",
       "0  2020-01-01 00:15:00  7182.78  7198.400000  7151.60  7157.00  225.209649   \n",
       "1  2020-01-01 00:30:00  7194.20  7200.004497  7155.00  7155.72   84.017938   \n",
       "2  2020-01-01 00:45:00  7158.20  7201.900000  7149.25  7155.70  187.857548   \n",
       "3  2020-01-01 01:00:00  7150.65  7206.100000  7147.18  7167.34  336.479456   \n",
       "4  2020-01-01 01:15:00  7192.40  7226.100000  7163.92  7186.60  410.926622   \n",
       "\n",
       "   transactions       log    logRet  \n",
       "0           790  8.875846 -0.000172  \n",
       "1           617  8.875667 -0.000179  \n",
       "2           809  8.875665 -0.000003  \n",
       "3           729  8.877290  0.001625  \n",
       "4           968  8.879973  0.002684  "
      ]
     },
     "execution_count": 10,
     "metadata": {},
     "output_type": "execute_result"
    }
   ],
   "source": [
    "btc.head()"
   ]
  },
  {
   "cell_type": "code",
   "execution_count": 11,
   "metadata": {},
   "outputs": [],
   "source": [
    "btc_clean = btc.loc[:, ['date', 'logRet']].copy()\n",
    "btc_clean['date'] = pd.to_datetime(btc_clean['date'], format='%Y-%m-%d %H:%M:%S')\n",
    "merged = btc_clean.merge(tweets_clean, on='date', how='inner')"
   ]
  },
  {
   "cell_type": "code",
   "execution_count": 26,
   "metadata": {},
   "outputs": [],
   "source": [
    "merged.dropna(axis=0, inplace=True)"
   ]
  },
  {
   "cell_type": "code",
   "execution_count": 192,
   "metadata": {},
   "outputs": [],
   "source": [
    "merged.to_csv('./sentiment.csv', index=False)"
   ]
  },
  {
   "cell_type": "code",
   "execution_count": 2,
   "metadata": {},
   "outputs": [],
   "source": [
    "merged = pd.read_csv('./sentiment.csv')"
   ]
  },
  {
   "cell_type": "code",
   "execution_count": 3,
   "metadata": {},
   "outputs": [
    {
     "name": "stderr",
     "output_type": "stream",
     "text": [
      "/opt/miniconda3/envs/fintech/lib/python3.10/site-packages/optuna/samplers/_tpe/sampler.py:295: ExperimentalWarning: ``multivariate`` option is an experimental feature. The interface can change in the future.\n",
      "  warnings.warn(\n",
      "[I 2023-11-27 01:54:41,324] A new study created in RDB with name: no-name-197127dc-3b09-429e-921b-670aaff7a8ec\n"
     ]
    },
    {
     "name": "stdout",
     "output_type": "stream",
     "text": [
      "Epoch 1/15\n"
     ]
    },
    {
     "name": "stderr",
     "output_type": "stream",
     "text": [
      "/Users/MicheleOrlandi/Desktop/MGT8803/crypto-sentiment-analysis/model.py:101: FutureWarning: suggest_uniform has been deprecated in v3.0.0. This feature will be removed in v6.0.0. See https://github.com/optuna/optuna/releases/tag/v3.0.0. Use suggest_float instead.\n",
      "  dropout_units = trial.suggest_uniform(\"dropout\", 0, 0.5)\n"
     ]
    },
    {
     "name": "stdout",
     "output_type": "stream",
     "text": [
      "17/17 [==============================] - 3s 39ms/step - loss: 7.4816 - mape: 0.8240 - val_loss: 7.1911 - val_mape: 0.8287\n",
      "Epoch 2/15\n",
      "17/17 [==============================] - 0s 8ms/step - loss: 7.3600 - mape: 0.8248 - val_loss: 7.0798 - val_mape: 0.8307\n",
      "Epoch 3/15\n",
      "17/17 [==============================] - 0s 8ms/step - loss: 7.2211 - mape: 0.8284 - val_loss: 6.9700 - val_mape: 0.8323\n",
      "Epoch 4/15\n",
      "17/17 [==============================] - 0s 8ms/step - loss: 7.1120 - mape: 0.8327 - val_loss: 6.8617 - val_mape: 0.8334\n",
      "Epoch 5/15\n",
      "17/17 [==============================] - 0s 8ms/step - loss: 6.9844 - mape: 0.8299 - val_loss: 6.7517 - val_mape: 0.8342\n",
      "Epoch 6/15\n",
      "17/17 [==============================] - 0s 8ms/step - loss: 6.8726 - mape: 0.8309 - val_loss: 6.6415 - val_mape: 0.8346\n",
      "Epoch 7/15\n",
      "17/17 [==============================] - 0s 8ms/step - loss: 6.7529 - mape: 0.8321 - val_loss: 6.5306 - val_mape: 0.8345\n",
      "Epoch 8/15\n",
      "17/17 [==============================] - 0s 8ms/step - loss: 6.6108 - mape: 0.8300 - val_loss: 6.4169 - val_mape: 0.8339\n",
      "Epoch 9/15\n",
      "17/17 [==============================] - 0s 8ms/step - loss: 6.5016 - mape: 0.8308 - val_loss: 6.3003 - val_mape: 0.8328\n",
      "Epoch 10/15\n",
      "17/17 [==============================] - 0s 8ms/step - loss: 6.3610 - mape: 0.8294 - val_loss: 6.1787 - val_mape: 0.8312\n",
      "Epoch 11/15\n",
      "17/17 [==============================] - 0s 8ms/step - loss: 6.2197 - mape: 0.8262 - val_loss: 6.0523 - val_mape: 0.8289\n",
      "Epoch 12/15\n",
      "17/17 [==============================] - 0s 9ms/step - loss: 6.0853 - mape: 0.8228 - val_loss: 5.9192 - val_mape: 0.8259\n",
      "Epoch 13/15\n",
      "17/17 [==============================] - 0s 10ms/step - loss: 5.9344 - mape: 0.8215 - val_loss: 5.7791 - val_mape: 0.8220\n",
      "Epoch 14/15\n",
      "17/17 [==============================] - 0s 8ms/step - loss: 5.7737 - mape: 0.8148 - val_loss: 5.6295 - val_mape: 0.8171\n",
      "Epoch 15/15\n",
      "17/17 [==============================] - 0s 8ms/step - loss: 5.6198 - mape: 0.8109 - val_loss: 5.4681 - val_mape: 0.8110\n"
     ]
    },
    {
     "name": "stderr",
     "output_type": "stream",
     "text": [
      "[I 2023-11-27 01:54:46,375] Trial 0 finished with value: 0.811014711856842 and parameters: {'learning_rate': 1.3096525327888898e-05, 'weight_decay': 3.1608644683956973e-09, 'recurrent': 100, 'dropout': 0.054257029283637404, 'epsilon': 0.09032569941809376}. Best is trial 0 with value: 0.811014711856842.\n"
     ]
    },
    {
     "name": "stdout",
     "output_type": "stream",
     "text": [
      "Epoch 1/15\n",
      "17/17 [==============================] - 3s 41ms/step - loss: 9.1372 - mape: 0.8517 - val_loss: 8.7729 - val_mape: 0.8568\n",
      "Epoch 2/15\n",
      "17/17 [==============================] - 0s 12ms/step - loss: 8.7324 - mape: 0.8557 - val_loss: 8.3897 - val_mape: 0.8558\n",
      "Epoch 3/15\n",
      "17/17 [==============================] - 0s 12ms/step - loss: 8.2803 - mape: 0.8501 - val_loss: 7.9784 - val_mape: 0.8503\n",
      "Epoch 4/15\n",
      "17/17 [==============================] - 0s 12ms/step - loss: 7.7888 - mape: 0.8365 - val_loss: 7.5126 - val_mape: 0.8385\n",
      "Epoch 5/15\n",
      "17/17 [==============================] - 0s 12ms/step - loss: 7.3329 - mape: 0.8262 - val_loss: 6.9846 - val_mape: 0.8185\n",
      "Epoch 6/15\n",
      "17/17 [==============================] - 0s 12ms/step - loss: 6.6269 - mape: 0.7925 - val_loss: 6.3019 - val_mape: 0.7846\n",
      "Epoch 7/15\n",
      "17/17 [==============================] - 0s 12ms/step - loss: 5.6814 - mape: 0.7354 - val_loss: 5.4035 - val_mape: 0.7286\n",
      "Epoch 8/15\n",
      "17/17 [==============================] - 0s 12ms/step - loss: 4.8441 - mape: 0.6774 - val_loss: 4.1658 - val_mape: 0.6321\n",
      "Epoch 9/15\n",
      "17/17 [==============================] - 0s 12ms/step - loss: 2.9700 - mape: 0.4921 - val_loss: 2.5019 - val_mape: 0.4580\n",
      "Epoch 10/15\n",
      "17/17 [==============================] - 0s 12ms/step - loss: 1.6641 - mape: 0.2829 - val_loss: 1.0697 - val_mape: 0.2179\n",
      "Epoch 11/15\n",
      "17/17 [==============================] - 0s 12ms/step - loss: 0.8870 - mape: 0.1612 - val_loss: 0.5168 - val_mape: 0.0777\n",
      "Epoch 12/15\n",
      "17/17 [==============================] - 0s 12ms/step - loss: 0.5843 - mape: 0.1367 - val_loss: 0.3696 - val_mape: 0.0955\n",
      "Epoch 13/15\n",
      "17/17 [==============================] - 0s 12ms/step - loss: 0.4225 - mape: 0.1328 - val_loss: 0.3724 - val_mape: 0.1385\n",
      "Epoch 14/15\n",
      "17/17 [==============================] - 0s 11ms/step - loss: 0.2972 - mape: 0.1222 - val_loss: 0.2831 - val_mape: 0.0997\n",
      "Epoch 15/15\n",
      "17/17 [==============================] - 0s 12ms/step - loss: 0.1494 - mape: 0.0783 - val_loss: 0.3119 - val_mape: 0.1254\n"
     ]
    },
    {
     "name": "stderr",
     "output_type": "stream",
     "text": [
      "[I 2023-11-27 01:54:51,988] Trial 1 finished with value: 0.12541848421096802 and parameters: {'learning_rate': 1.8985949555705907e-05, 'weight_decay': 1.0613324682955145e-09, 'recurrent': 251, 'dropout': 0.43713105682085834, 'epsilon': 0.01083028341288746}. Best is trial 1 with value: 0.12541848421096802.\n"
     ]
    },
    {
     "name": "stdout",
     "output_type": "stream",
     "text": [
      "Epoch 1/15\n",
      "17/17 [==============================] - 3s 38ms/step - loss: 9.0793 - mape: 0.8036 - val_loss: 8.8411 - val_mape: 0.8153\n",
      "Epoch 2/15\n",
      "17/17 [==============================] - 0s 8ms/step - loss: 9.0641 - mape: 0.8043 - val_loss: 8.8296 - val_mape: 0.8157\n",
      "Epoch 3/15\n",
      "17/17 [==============================] - 0s 8ms/step - loss: 9.0221 - mape: 0.8134 - val_loss: 8.8186 - val_mape: 0.8160\n",
      "Epoch 4/15\n",
      "17/17 [==============================] - 0s 8ms/step - loss: 9.0478 - mape: 0.8077 - val_loss: 8.8071 - val_mape: 0.8164\n",
      "Epoch 5/15\n",
      "17/17 [==============================] - 0s 8ms/step - loss: 9.0708 - mape: 0.8081 - val_loss: 8.7954 - val_mape: 0.8167\n",
      "Epoch 6/15\n",
      "17/17 [==============================] - 0s 8ms/step - loss: 9.0002 - mape: 0.8132 - val_loss: 8.7840 - val_mape: 0.8170\n",
      "Epoch 7/15\n",
      "17/17 [==============================] - 0s 8ms/step - loss: 9.0317 - mape: 0.8044 - val_loss: 8.7724 - val_mape: 0.8174\n",
      "Epoch 8/15\n",
      "17/17 [==============================] - 0s 8ms/step - loss: 9.0008 - mape: 0.8025 - val_loss: 8.7603 - val_mape: 0.8177\n",
      "Epoch 9/15\n",
      "17/17 [==============================] - 0s 8ms/step - loss: 8.9760 - mape: 0.8129 - val_loss: 8.7489 - val_mape: 0.8181\n",
      "Epoch 10/15\n",
      "17/17 [==============================] - 0s 9ms/step - loss: 8.9508 - mape: 0.8135 - val_loss: 8.7375 - val_mape: 0.8184\n",
      "Epoch 11/15\n",
      "17/17 [==============================] - 0s 8ms/step - loss: 8.9507 - mape: 0.8033 - val_loss: 8.7262 - val_mape: 0.8187\n",
      "Epoch 12/15\n",
      "17/17 [==============================] - 0s 8ms/step - loss: 8.9589 - mape: 0.8087 - val_loss: 8.7145 - val_mape: 0.8190\n",
      "Epoch 13/15\n",
      "17/17 [==============================] - 0s 8ms/step - loss: 8.9133 - mape: 0.8166 - val_loss: 8.7034 - val_mape: 0.8193\n",
      "Epoch 14/15\n",
      "17/17 [==============================] - 0s 8ms/step - loss: 8.8983 - mape: 0.8084 - val_loss: 8.6925 - val_mape: 0.8196\n",
      "Epoch 15/15\n",
      "17/17 [==============================] - 0s 8ms/step - loss: 8.9188 - mape: 0.8013 - val_loss: 8.6806 - val_mape: 0.8199\n"
     ]
    },
    {
     "name": "stderr",
     "output_type": "stream",
     "text": [
      "[I 2023-11-27 01:54:56,610] Trial 2 finished with value: 0.8199456334114075 and parameters: {'learning_rate': 1.0863125722604547e-06, 'weight_decay': 1.0582654110662254e-09, 'recurrent': 92, 'dropout': 0.48830377324106244, 'epsilon': 0.028274963354104298}. Best is trial 1 with value: 0.12541848421096802.\n"
     ]
    },
    {
     "name": "stdout",
     "output_type": "stream",
     "text": [
      "Epoch 1/15\n",
      "17/17 [==============================] - 3s 58ms/step - loss: 3.9017 - mape: 0.3925 - val_loss: 0.1680 - val_mape: 0.0337\n",
      "Epoch 2/15\n",
      "17/17 [==============================] - 0s 11ms/step - loss: 0.0639 - mape: 0.0332 - val_loss: 0.1731 - val_mape: 0.0172\n",
      "Epoch 3/15\n",
      "17/17 [==============================] - 0s 11ms/step - loss: 0.0525 - mape: 0.0138 - val_loss: 0.1215 - val_mape: 0.0246\n",
      "Epoch 4/15\n",
      "17/17 [==============================] - 0s 11ms/step - loss: 0.0484 - mape: 0.0257 - val_loss: 0.1410 - val_mape: 0.0318\n",
      "Epoch 5/15\n",
      "17/17 [==============================] - 0s 11ms/step - loss: 0.0497 - mape: 0.0343 - val_loss: 0.1314 - val_mape: 0.0268\n",
      "Epoch 6/15\n",
      "17/17 [==============================] - 0s 11ms/step - loss: 0.0489 - mape: 0.0364 - val_loss: 0.1460 - val_mape: 0.0221\n",
      "Epoch 7/15\n",
      "17/17 [==============================] - 0s 11ms/step - loss: 0.0490 - mape: 0.0357 - val_loss: 0.1382 - val_mape: 0.0182\n",
      "Epoch 8/15\n",
      "17/17 [==============================] - 0s 11ms/step - loss: 0.0482 - mape: 0.0357 - val_loss: 0.1396 - val_mape: 0.0184\n",
      "Epoch 9/15\n",
      "17/17 [==============================] - 0s 12ms/step - loss: 0.0495 - mape: 0.0328 - val_loss: 0.1389 - val_mape: 0.0209\n",
      "Epoch 10/15\n",
      "17/17 [==============================] - 0s 11ms/step - loss: 0.0464 - mape: 0.0376 - val_loss: 0.1407 - val_mape: 0.0216\n",
      "Epoch 11/15\n",
      "17/17 [==============================] - 0s 12ms/step - loss: 0.0472 - mape: 0.0342 - val_loss: 0.1229 - val_mape: 0.0212\n",
      "Epoch 12/15\n",
      "17/17 [==============================] - 0s 12ms/step - loss: 0.0447 - mape: 0.0321 - val_loss: 0.1243 - val_mape: 0.0220\n",
      "Epoch 13/15\n",
      "17/17 [==============================] - 0s 11ms/step - loss: 0.0452 - mape: 0.0254 - val_loss: 0.1171 - val_mape: 0.0206\n",
      "Epoch 14/15\n",
      "17/17 [==============================] - 0s 17ms/step - loss: 0.0420 - mape: 0.0267 - val_loss: 0.1161 - val_mape: 0.0199\n",
      "Epoch 15/15\n",
      "17/17 [==============================] - 0s 11ms/step - loss: 0.0340 - mape: 0.0200 - val_loss: 0.1037 - val_mape: 0.0242\n"
     ]
    },
    {
     "name": "stderr",
     "output_type": "stream",
     "text": [
      "[I 2023-11-27 01:55:02,401] Trial 3 finished with value: 0.02423774264752865 and parameters: {'learning_rate': 0.0088890033627921, 'weight_decay': 7.46020380019446e-08, 'recurrent': 220, 'dropout': 0.16514073207142355, 'epsilon': 0.08553027564445925}. Best is trial 3 with value: 0.02423774264752865.\n"
     ]
    },
    {
     "name": "stdout",
     "output_type": "stream",
     "text": [
      "Epoch 1/15\n",
      "17/17 [==============================] - 3s 56ms/step - loss: 8.0941 - mape: 0.8594 - val_loss: 7.9906 - val_mape: 0.8622\n",
      "Epoch 2/15\n",
      "17/17 [==============================] - 0s 29ms/step - loss: 8.0419 - mape: 0.8591 - val_loss: 7.9379 - val_mape: 0.8623\n",
      "Epoch 3/15\n",
      "17/17 [==============================] - 0s 29ms/step - loss: 8.0136 - mape: 0.8610 - val_loss: 7.8854 - val_mape: 0.8623\n",
      "Epoch 4/15\n",
      "17/17 [==============================] - 0s 29ms/step - loss: 7.9587 - mape: 0.8621 - val_loss: 7.8334 - val_mape: 0.8622\n",
      "Epoch 5/15\n",
      "17/17 [==============================] - 1s 33ms/step - loss: 7.8905 - mape: 0.8621 - val_loss: 7.7813 - val_mape: 0.8620\n",
      "Epoch 6/15\n",
      "17/17 [==============================] - 1s 31ms/step - loss: 7.8384 - mape: 0.8592 - val_loss: 7.7264 - val_mape: 0.8617\n",
      "Epoch 7/15\n",
      "17/17 [==============================] - 1s 31ms/step - loss: 7.7153 - mape: 0.8581 - val_loss: 7.6726 - val_mape: 0.8613\n",
      "Epoch 8/15\n",
      "17/17 [==============================] - 1s 32ms/step - loss: 7.6782 - mape: 0.8567 - val_loss: 7.6177 - val_mape: 0.8609\n",
      "Epoch 9/15\n",
      "17/17 [==============================] - 1s 32ms/step - loss: 7.6542 - mape: 0.8576 - val_loss: 7.5624 - val_mape: 0.8603\n",
      "Epoch 10/15\n",
      "17/17 [==============================] - 1s 32ms/step - loss: 7.5743 - mape: 0.8572 - val_loss: 7.5066 - val_mape: 0.8597\n",
      "Epoch 11/15\n",
      "17/17 [==============================] - 1s 32ms/step - loss: 7.5155 - mape: 0.8565 - val_loss: 7.4507 - val_mape: 0.8590\n",
      "Epoch 12/15\n",
      "17/17 [==============================] - 1s 34ms/step - loss: 7.4528 - mape: 0.8545 - val_loss: 7.3935 - val_mape: 0.8581\n",
      "Epoch 13/15\n",
      "17/17 [==============================] - 1s 36ms/step - loss: 7.3281 - mape: 0.8505 - val_loss: 7.3348 - val_mape: 0.8571\n",
      "Epoch 14/15\n",
      "17/17 [==============================] - 1s 31ms/step - loss: 7.2360 - mape: 0.8473 - val_loss: 7.2752 - val_mape: 0.8561\n",
      "Epoch 15/15\n",
      "17/17 [==============================] - 1s 31ms/step - loss: 7.2831 - mape: 0.8509 - val_loss: 7.2143 - val_mape: 0.8549\n"
     ]
    },
    {
     "name": "stderr",
     "output_type": "stream",
     "text": [
      "[I 2023-11-27 01:55:13,028] Trial 4 finished with value: 0.854851245880127 and parameters: {'learning_rate': 1.5348995597421545e-06, 'weight_decay': 0.008355140363768911, 'recurrent': 508, 'dropout': 0.3474161764835618, 'epsilon': 0.03568592696366367}. Best is trial 3 with value: 0.02423774264752865.\n"
     ]
    },
    {
     "name": "stdout",
     "output_type": "stream",
     "text": [
      "Epoch 1/15\n",
      "17/17 [==============================] - 3s 48ms/step - loss: 8.4137 - mape: 0.8647 - val_loss: 8.2716 - val_mape: 0.8665\n",
      "Epoch 2/15\n",
      "17/17 [==============================] - 0s 19ms/step - loss: 8.3894 - mape: 0.8650 - val_loss: 8.2543 - val_mape: 0.8666\n",
      "Epoch 3/15\n",
      "17/17 [==============================] - 0s 21ms/step - loss: 8.3544 - mape: 0.8643 - val_loss: 8.2364 - val_mape: 0.8666\n",
      "Epoch 4/15\n",
      "17/17 [==============================] - 0s 21ms/step - loss: 8.3285 - mape: 0.8638 - val_loss: 8.2185 - val_mape: 0.8667\n",
      "Epoch 5/15\n",
      "17/17 [==============================] - 0s 22ms/step - loss: 8.3575 - mape: 0.8655 - val_loss: 8.2011 - val_mape: 0.8667\n",
      "Epoch 6/15\n",
      "17/17 [==============================] - 0s 21ms/step - loss: 8.3173 - mape: 0.8646 - val_loss: 8.1833 - val_mape: 0.8667\n",
      "Epoch 7/15\n",
      "17/17 [==============================] - 0s 22ms/step - loss: 8.3123 - mape: 0.8647 - val_loss: 8.1658 - val_mape: 0.8667\n",
      "Epoch 8/15\n",
      "17/17 [==============================] - 0s 21ms/step - loss: 8.2907 - mape: 0.8656 - val_loss: 8.1482 - val_mape: 0.8668\n",
      "Epoch 9/15\n",
      "17/17 [==============================] - 0s 20ms/step - loss: 8.2888 - mape: 0.8653 - val_loss: 8.1305 - val_mape: 0.8668\n",
      "Epoch 10/15\n",
      "17/17 [==============================] - 0s 20ms/step - loss: 8.2529 - mape: 0.8655 - val_loss: 8.1130 - val_mape: 0.8667\n",
      "Epoch 11/15\n",
      "17/17 [==============================] - 0s 21ms/step - loss: 8.2382 - mape: 0.8652 - val_loss: 8.0955 - val_mape: 0.8667\n",
      "Epoch 12/15\n",
      "17/17 [==============================] - 0s 21ms/step - loss: 8.1947 - mape: 0.8648 - val_loss: 8.0776 - val_mape: 0.8667\n",
      "Epoch 13/15\n",
      "17/17 [==============================] - 0s 25ms/step - loss: 8.1740 - mape: 0.8660 - val_loss: 8.0592 - val_mape: 0.8667\n",
      "Epoch 14/15\n",
      "17/17 [==============================] - 0s 21ms/step - loss: 8.1562 - mape: 0.8639 - val_loss: 8.0410 - val_mape: 0.8666\n",
      "Epoch 15/15\n",
      "17/17 [==============================] - 0s 26ms/step - loss: 8.1721 - mape: 0.8657 - val_loss: 8.0231 - val_mape: 0.8666\n"
     ]
    },
    {
     "name": "stderr",
     "output_type": "stream",
     "text": [
      "[I 2023-11-27 01:55:21,046] Trial 5 finished with value: 0.866551399230957 and parameters: {'learning_rate': 6.507364137545295e-07, 'weight_decay': 0.0002434719760038215, 'recurrent': 393, 'dropout': 0.20786600798350857, 'epsilon': 0.024547340363292865}. Best is trial 3 with value: 0.02423774264752865.\n"
     ]
    },
    {
     "name": "stdout",
     "output_type": "stream",
     "text": [
      "Epoch 1/15\n",
      "17/17 [==============================] - 3s 42ms/step - loss: 9.2152 - mape: 0.8445 - val_loss: 8.9985 - val_mape: 0.8463\n",
      "Epoch 2/15\n",
      "17/17 [==============================] - 0s 12ms/step - loss: 9.2152 - mape: 0.8429 - val_loss: 8.9959 - val_mape: 0.8463\n",
      "Epoch 3/15\n",
      "17/17 [==============================] - 0s 12ms/step - loss: 9.2195 - mape: 0.8444 - val_loss: 8.9933 - val_mape: 0.8464\n",
      "Epoch 4/15\n",
      "17/17 [==============================] - 0s 13ms/step - loss: 9.2147 - mape: 0.8426 - val_loss: 8.9907 - val_mape: 0.8464\n",
      "Epoch 5/15\n",
      "17/17 [==============================] - 0s 14ms/step - loss: 9.2070 - mape: 0.8424 - val_loss: 8.9880 - val_mape: 0.8465\n",
      "Epoch 6/15\n",
      "17/17 [==============================] - 0s 13ms/step - loss: 9.2095 - mape: 0.8439 - val_loss: 8.9854 - val_mape: 0.8465\n",
      "Epoch 7/15\n",
      "17/17 [==============================] - 0s 13ms/step - loss: 9.2019 - mape: 0.8432 - val_loss: 8.9827 - val_mape: 0.8466\n",
      "Epoch 8/15\n",
      "17/17 [==============================] - 0s 13ms/step - loss: 9.1862 - mape: 0.8447 - val_loss: 8.9801 - val_mape: 0.8466\n",
      "Epoch 9/15\n",
      "17/17 [==============================] - 0s 13ms/step - loss: 9.1843 - mape: 0.8443 - val_loss: 8.9776 - val_mape: 0.8467\n",
      "Epoch 10/15\n",
      "17/17 [==============================] - 0s 13ms/step - loss: 9.1989 - mape: 0.8424 - val_loss: 8.9749 - val_mape: 0.8467\n",
      "Epoch 11/15\n",
      "17/17 [==============================] - 0s 13ms/step - loss: 9.2088 - mape: 0.8403 - val_loss: 8.9723 - val_mape: 0.8468\n",
      "Epoch 12/15\n",
      "17/17 [==============================] - 0s 13ms/step - loss: 9.1821 - mape: 0.8456 - val_loss: 8.9697 - val_mape: 0.8468\n",
      "Epoch 13/15\n",
      "17/17 [==============================] - 0s 14ms/step - loss: 9.1793 - mape: 0.8445 - val_loss: 8.9671 - val_mape: 0.8469\n",
      "Epoch 14/15\n",
      "17/17 [==============================] - 0s 15ms/step - loss: 9.1624 - mape: 0.8436 - val_loss: 8.9645 - val_mape: 0.8469\n",
      "Epoch 15/15\n",
      "17/17 [==============================] - 0s 13ms/step - loss: 9.1846 - mape: 0.8442 - val_loss: 8.9619 - val_mape: 0.8469\n"
     ]
    },
    {
     "name": "stderr",
     "output_type": "stream",
     "text": [
      "[I 2023-11-27 01:55:26,951] Trial 6 finished with value: 0.8469454646110535 and parameters: {'learning_rate': 1.1435479149192823e-07, 'weight_decay': 1.2461712127899598e-08, 'recurrent': 268, 'dropout': 0.1243270676289977, 'epsilon': 0.020700242305773744}. Best is trial 3 with value: 0.02423774264752865.\n"
     ]
    },
    {
     "name": "stdout",
     "output_type": "stream",
     "text": [
      "Epoch 1/15\n",
      "17/17 [==============================] - 3s 46ms/step - loss: 8.8478 - mape: 0.8568 - val_loss: 8.7085 - val_mape: 0.8590\n",
      "Epoch 2/15\n",
      "17/17 [==============================] - 0s 17ms/step - loss: 8.8591 - mape: 0.8572 - val_loss: 8.7052 - val_mape: 0.8591\n",
      "Epoch 3/15\n",
      "17/17 [==============================] - 0s 17ms/step - loss: 8.8369 - mape: 0.8551 - val_loss: 8.7019 - val_mape: 0.8591\n",
      "Epoch 4/15\n",
      "17/17 [==============================] - 0s 17ms/step - loss: 8.8486 - mape: 0.8575 - val_loss: 8.6985 - val_mape: 0.8591\n",
      "Epoch 5/15\n",
      "17/17 [==============================] - 0s 17ms/step - loss: 8.8459 - mape: 0.8580 - val_loss: 8.6953 - val_mape: 0.8592\n",
      "Epoch 6/15\n",
      "17/17 [==============================] - 0s 18ms/step - loss: 8.8343 - mape: 0.8572 - val_loss: 8.6920 - val_mape: 0.8592\n",
      "Epoch 7/15\n",
      "17/17 [==============================] - 0s 19ms/step - loss: 8.8469 - mape: 0.8586 - val_loss: 8.6887 - val_mape: 0.8592\n",
      "Epoch 8/15\n",
      "17/17 [==============================] - 0s 19ms/step - loss: 8.8207 - mape: 0.8545 - val_loss: 8.6854 - val_mape: 0.8593\n",
      "Epoch 9/15\n",
      "17/17 [==============================] - 0s 19ms/step - loss: 8.8246 - mape: 0.8566 - val_loss: 8.6821 - val_mape: 0.8593\n",
      "Epoch 10/15\n",
      "17/17 [==============================] - 0s 19ms/step - loss: 8.8235 - mape: 0.8576 - val_loss: 8.6788 - val_mape: 0.8593\n",
      "Epoch 11/15\n",
      "17/17 [==============================] - 0s 19ms/step - loss: 8.8077 - mape: 0.8566 - val_loss: 8.6755 - val_mape: 0.8594\n",
      "Epoch 12/15\n",
      "17/17 [==============================] - 0s 19ms/step - loss: 8.7987 - mape: 0.8557 - val_loss: 8.6722 - val_mape: 0.8594\n",
      "Epoch 13/15\n",
      "17/17 [==============================] - 0s 19ms/step - loss: 8.8238 - mape: 0.8579 - val_loss: 8.6689 - val_mape: 0.8594\n",
      "Epoch 14/15\n",
      "17/17 [==============================] - 0s 19ms/step - loss: 8.8151 - mape: 0.8572 - val_loss: 8.6657 - val_mape: 0.8594\n",
      "Epoch 15/15\n",
      "17/17 [==============================] - 0s 19ms/step - loss: 8.8131 - mape: 0.8585 - val_loss: 8.6624 - val_mape: 0.8595\n"
     ]
    },
    {
     "name": "stderr",
     "output_type": "stream",
     "text": [
      "[I 2023-11-27 01:55:34,252] Trial 7 finished with value: 0.8594648838043213 and parameters: {'learning_rate': 1.1825787783512281e-07, 'weight_decay': 0.00016909840029339477, 'recurrent': 367, 'dropout': 0.2527223768813326, 'epsilon': 0.017645891832546338}. Best is trial 3 with value: 0.02423774264752865.\n"
     ]
    },
    {
     "name": "stdout",
     "output_type": "stream",
     "text": [
      "Epoch 1/15\n",
      "17/17 [==============================] - 3s 54ms/step - loss: 8.9581 - mape: 0.8614 - val_loss: 8.7923 - val_mape: 0.8628\n",
      "Epoch 2/15\n",
      "17/17 [==============================] - 0s 29ms/step - loss: 8.9105 - mape: 0.8613 - val_loss: 8.7524 - val_mape: 0.8632\n",
      "Epoch 3/15\n",
      "17/17 [==============================] - 0s 30ms/step - loss: 8.8709 - mape: 0.8615 - val_loss: 8.7136 - val_mape: 0.8635\n",
      "Epoch 4/15\n",
      "17/17 [==============================] - 0s 25ms/step - loss: 8.8269 - mape: 0.8637 - val_loss: 8.6751 - val_mape: 0.8638\n",
      "Epoch 5/15\n",
      "17/17 [==============================] - 0s 26ms/step - loss: 8.7526 - mape: 0.8617 - val_loss: 8.6344 - val_mape: 0.8640\n",
      "Epoch 6/15\n",
      "17/17 [==============================] - 0s 26ms/step - loss: 8.7323 - mape: 0.8627 - val_loss: 8.5941 - val_mape: 0.8643\n",
      "Epoch 7/15\n",
      "17/17 [==============================] - 0s 26ms/step - loss: 8.6809 - mape: 0.8626 - val_loss: 8.5536 - val_mape: 0.8644\n",
      "Epoch 8/15\n",
      "17/17 [==============================] - 1s 28ms/step - loss: 8.6760 - mape: 0.8641 - val_loss: 8.5136 - val_mape: 0.8645\n",
      "Epoch 9/15\n",
      "17/17 [==============================] - 1s 35ms/step - loss: 8.6077 - mape: 0.8627 - val_loss: 8.4745 - val_mape: 0.8646\n",
      "Epoch 10/15\n",
      "17/17 [==============================] - 0s 27ms/step - loss: 8.5352 - mape: 0.8615 - val_loss: 8.4332 - val_mape: 0.8646\n",
      "Epoch 11/15\n",
      "17/17 [==============================] - 0s 27ms/step - loss: 8.4818 - mape: 0.8620 - val_loss: 8.3908 - val_mape: 0.8646\n",
      "Epoch 12/15\n",
      "17/17 [==============================] - 0s 27ms/step - loss: 8.4894 - mape: 0.8630 - val_loss: 8.3494 - val_mape: 0.8645\n",
      "Epoch 13/15\n",
      "17/17 [==============================] - 0s 28ms/step - loss: 8.4720 - mape: 0.8657 - val_loss: 8.3096 - val_mape: 0.8644\n",
      "Epoch 14/15\n",
      "17/17 [==============================] - 0s 27ms/step - loss: 8.3904 - mape: 0.8620 - val_loss: 8.2685 - val_mape: 0.8642\n",
      "Epoch 15/15\n",
      "17/17 [==============================] - 1s 28ms/step - loss: 8.2955 - mape: 0.8597 - val_loss: 8.2246 - val_mape: 0.8639\n"
     ]
    },
    {
     "name": "stderr",
     "output_type": "stream",
     "text": [
      "[I 2023-11-27 01:55:44,372] Trial 8 finished with value: 0.8639313578605652 and parameters: {'learning_rate': 1.2114950022362934e-06, 'weight_decay': 4.224219767723007e-06, 'recurrent': 465, 'dropout': 0.40148871921263923, 'epsilon': 0.015025014494239099}. Best is trial 3 with value: 0.02423774264752865.\n"
     ]
    },
    {
     "name": "stdout",
     "output_type": "stream",
     "text": [
      "Epoch 1/15\n",
      "17/17 [==============================] - 3s 54ms/step - loss: 8.9239 - mape: 0.8569 - val_loss: 8.7699 - val_mape: 0.8596\n",
      "Epoch 2/15\n",
      "17/17 [==============================] - 0s 27ms/step - loss: 8.9155 - mape: 0.8565 - val_loss: 8.7613 - val_mape: 0.8597\n",
      "Epoch 3/15\n",
      "17/17 [==============================] - 0s 26ms/step - loss: 8.9149 - mape: 0.8571 - val_loss: 8.7529 - val_mape: 0.8598\n",
      "Epoch 4/15\n",
      "17/17 [==============================] - 0s 26ms/step - loss: 8.9040 - mape: 0.8601 - val_loss: 8.7447 - val_mape: 0.8599\n",
      "Epoch 5/15\n",
      "17/17 [==============================] - 0s 27ms/step - loss: 8.8844 - mape: 0.8559 - val_loss: 8.7364 - val_mape: 0.8599\n",
      "Epoch 6/15\n",
      "17/17 [==============================] - 1s 27ms/step - loss: 8.8817 - mape: 0.8596 - val_loss: 8.7280 - val_mape: 0.8600\n",
      "Epoch 7/15\n",
      "17/17 [==============================] - 0s 28ms/step - loss: 8.8740 - mape: 0.8581 - val_loss: 8.7195 - val_mape: 0.8601\n",
      "Epoch 8/15\n",
      "17/17 [==============================] - 0s 29ms/step - loss: 8.8701 - mape: 0.8603 - val_loss: 8.7113 - val_mape: 0.8602\n",
      "Epoch 9/15\n",
      "17/17 [==============================] - 0s 28ms/step - loss: 8.8580 - mape: 0.8610 - val_loss: 8.7031 - val_mape: 0.8603\n",
      "Epoch 10/15\n",
      "17/17 [==============================] - 1s 30ms/step - loss: 8.8416 - mape: 0.8589 - val_loss: 8.6947 - val_mape: 0.8603\n",
      "Epoch 11/15\n",
      "17/17 [==============================] - 0s 28ms/step - loss: 8.8373 - mape: 0.8598 - val_loss: 8.6862 - val_mape: 0.8604\n",
      "Epoch 12/15\n",
      "17/17 [==============================] - 0s 28ms/step - loss: 8.8068 - mape: 0.8557 - val_loss: 8.6773 - val_mape: 0.8605\n",
      "Epoch 13/15\n",
      "17/17 [==============================] - 0s 28ms/step - loss: 8.8148 - mape: 0.8580 - val_loss: 8.6687 - val_mape: 0.8606\n",
      "Epoch 14/15\n",
      "17/17 [==============================] - 0s 29ms/step - loss: 8.7899 - mape: 0.8593 - val_loss: 8.6602 - val_mape: 0.8606\n",
      "Epoch 15/15\n",
      "17/17 [==============================] - 0s 28ms/step - loss: 8.7886 - mape: 0.8589 - val_loss: 8.6515 - val_mape: 0.8607\n"
     ]
    },
    {
     "name": "stderr",
     "output_type": "stream",
     "text": [
      "[I 2023-11-27 01:55:54,084] Trial 9 finished with value: 0.860696017742157 and parameters: {'learning_rate': 2.3503886140110977e-07, 'weight_decay': 0.0006458158033243278, 'recurrent': 474, 'dropout': 0.3998993570607284, 'epsilon': 0.021299323980062335}. Best is trial 3 with value: 0.02423774264752865.\n"
     ]
    },
    {
     "name": "stdout",
     "output_type": "stream",
     "text": [
      "Epoch 1/15\n",
      "17/17 [==============================] - 3s 40ms/step - loss: 1.9140 - mape: 0.4345 - val_loss: 0.2949 - val_mape: 0.1785\n",
      "Epoch 2/15\n",
      "17/17 [==============================] - 0s 11ms/step - loss: 0.0872 - mape: 0.1028 - val_loss: 0.0968 - val_mape: 0.0323\n",
      "Epoch 3/15\n",
      "17/17 [==============================] - 0s 11ms/step - loss: 0.0239 - mape: 0.0337 - val_loss: 0.0892 - val_mape: 0.0376\n",
      "Epoch 4/15\n",
      "17/17 [==============================] - 0s 11ms/step - loss: 0.0156 - mape: 0.0342 - val_loss: 0.0928 - val_mape: 0.0399\n",
      "Epoch 5/15\n",
      "17/17 [==============================] - 0s 11ms/step - loss: 0.0144 - mape: 0.0334 - val_loss: 0.1043 - val_mape: 0.0345\n",
      "Epoch 6/15\n",
      "17/17 [==============================] - 0s 12ms/step - loss: 0.0165 - mape: 0.0343 - val_loss: 0.1022 - val_mape: 0.0382\n",
      "Epoch 7/15\n",
      "17/17 [==============================] - 0s 12ms/step - loss: 0.0162 - mape: 0.0308 - val_loss: 0.1058 - val_mape: 0.0339\n",
      "Epoch 8/15\n",
      "17/17 [==============================] - 0s 11ms/step - loss: 0.0175 - mape: 0.0315 - val_loss: 0.1020 - val_mape: 0.0236\n",
      "Epoch 9/15\n",
      "17/17 [==============================] - 0s 11ms/step - loss: 0.0189 - mape: 0.0287 - val_loss: 0.1026 - val_mape: 0.0282\n",
      "Epoch 10/15\n",
      "17/17 [==============================] - 0s 11ms/step - loss: 0.0158 - mape: 0.0241 - val_loss: 0.1021 - val_mape: 0.0340\n",
      "Epoch 11/15\n",
      "17/17 [==============================] - 0s 13ms/step - loss: 0.0171 - mape: 0.0245 - val_loss: 0.1018 - val_mape: 0.0293\n",
      "Epoch 12/15\n",
      "17/17 [==============================] - 0s 11ms/step - loss: 0.0157 - mape: 0.0307 - val_loss: 0.1075 - val_mape: 0.0338\n",
      "Epoch 13/15\n",
      "17/17 [==============================] - 0s 11ms/step - loss: 0.0179 - mape: 0.0312 - val_loss: 0.1055 - val_mape: 0.0421\n",
      "Epoch 14/15\n",
      "17/17 [==============================] - 0s 11ms/step - loss: 0.0188 - mape: 0.0362 - val_loss: 0.1031 - val_mape: 0.0256\n",
      "Epoch 15/15\n",
      "17/17 [==============================] - 0s 11ms/step - loss: 0.0164 - mape: 0.0277 - val_loss: 0.1024 - val_mape: 0.0486\n"
     ]
    },
    {
     "name": "stderr",
     "output_type": "stream",
     "text": [
      "[I 2023-11-27 01:55:59,555] Trial 10 finished with value: 0.048605650663375854 and parameters: {'learning_rate': 0.002612397221832636, 'weight_decay': 3.0781823287868446e-08, 'recurrent': 167, 'dropout': 0.21611556766073192, 'epsilon': 0.09782171565207488}. Best is trial 3 with value: 0.02423774264752865.\n"
     ]
    },
    {
     "name": "stdout",
     "output_type": "stream",
     "text": [
      "Epoch 1/15\n",
      "17/17 [==============================] - 3s 41ms/step - loss: 3.2369 - mape: 0.5449 - val_loss: 0.1047 - val_mape: 0.0774\n",
      "Epoch 2/15\n",
      "17/17 [==============================] - 0s 12ms/step - loss: 0.1350 - mape: 0.1388 - val_loss: 0.1351 - val_mape: 0.0613\n",
      "Epoch 3/15\n",
      "17/17 [==============================] - 0s 11ms/step - loss: 0.0377 - mape: 0.0706 - val_loss: 0.1175 - val_mape: 0.0735\n",
      "Epoch 4/15\n",
      "17/17 [==============================] - 0s 11ms/step - loss: 0.0160 - mape: 0.0304 - val_loss: 0.0986 - val_mape: 0.0501\n",
      "Epoch 5/15\n",
      "17/17 [==============================] - 0s 11ms/step - loss: 0.0210 - mape: 0.0405 - val_loss: 0.1081 - val_mape: 0.0370\n",
      "Epoch 6/15\n",
      "17/17 [==============================] - 0s 11ms/step - loss: 0.0221 - mape: 0.0564 - val_loss: 0.1069 - val_mape: 0.0448\n",
      "Epoch 7/15\n",
      "17/17 [==============================] - 0s 11ms/step - loss: 0.0261 - mape: 0.0688 - val_loss: 0.1089 - val_mape: 0.0335\n",
      "Epoch 8/15\n",
      "17/17 [==============================] - 0s 12ms/step - loss: 0.0233 - mape: 0.0527 - val_loss: 0.1106 - val_mape: 0.0500\n",
      "Epoch 9/15\n",
      "17/17 [==============================] - 0s 16ms/step - loss: 0.0223 - mape: 0.0582 - val_loss: 0.1230 - val_mape: 0.0593\n",
      "Epoch 10/15\n",
      "17/17 [==============================] - 0s 12ms/step - loss: 0.0220 - mape: 0.0536 - val_loss: 0.1060 - val_mape: 0.0408\n",
      "Epoch 11/15\n",
      "17/17 [==============================] - 0s 12ms/step - loss: 0.0211 - mape: 0.0428 - val_loss: 0.1033 - val_mape: 0.0642\n",
      "Epoch 12/15\n",
      "17/17 [==============================] - 0s 11ms/step - loss: 0.0207 - mape: 0.0512 - val_loss: 0.1148 - val_mape: 0.0384\n",
      "Epoch 13/15\n",
      "17/17 [==============================] - 0s 12ms/step - loss: 0.0211 - mape: 0.0508 - val_loss: 0.1094 - val_mape: 0.0687\n",
      "Epoch 14/15\n",
      "17/17 [==============================] - 0s 12ms/step - loss: 0.0207 - mape: 0.0485 - val_loss: 0.1130 - val_mape: 0.0331\n",
      "Epoch 15/15\n",
      "17/17 [==============================] - 0s 12ms/step - loss: 0.0221 - mape: 0.0423 - val_loss: 0.1108 - val_mape: 0.0515\n"
     ]
    },
    {
     "name": "stderr",
     "output_type": "stream",
     "text": [
      "[I 2023-11-27 01:56:05,111] Trial 11 finished with value: 0.051486533135175705 and parameters: {'learning_rate': 0.000527303475295949, 'weight_decay': 3.4626231799336525e-09, 'recurrent': 203, 'dropout': 0.13404215033695538, 'epsilon': 0.08813491058260989}. Best is trial 3 with value: 0.02423774264752865.\n"
     ]
    },
    {
     "name": "stdout",
     "output_type": "stream",
     "text": [
      "Epoch 1/15\n",
      "17/17 [==============================] - 3s 44ms/step - loss: 4.5714 - mape: 0.4712 - val_loss: 0.2456 - val_mape: 0.1345\n",
      "Epoch 2/15\n",
      "17/17 [==============================] - 0s 14ms/step - loss: 0.0729 - mape: 0.0551 - val_loss: 0.1670 - val_mape: 0.0226\n",
      "Epoch 3/15\n",
      "17/17 [==============================] - 0s 15ms/step - loss: 0.0614 - mape: 0.0208 - val_loss: 0.1420 - val_mape: 0.0176\n",
      "Epoch 4/15\n",
      "17/17 [==============================] - 0s 15ms/step - loss: 0.0584 - mape: 0.0142 - val_loss: 0.1419 - val_mape: 0.0173\n",
      "Epoch 5/15\n",
      "17/17 [==============================] - 0s 15ms/step - loss: 0.0543 - mape: 0.0188 - val_loss: 0.1272 - val_mape: 0.0178\n",
      "Epoch 6/15\n",
      "17/17 [==============================] - 0s 15ms/step - loss: 0.0477 - mape: 0.0201 - val_loss: 0.1265 - val_mape: 0.0174\n",
      "Epoch 7/15\n",
      "17/17 [==============================] - 0s 20ms/step - loss: 0.0488 - mape: 0.0183 - val_loss: 0.1269 - val_mape: 0.0175\n",
      "Epoch 8/15\n",
      "17/17 [==============================] - 0s 15ms/step - loss: 0.0454 - mape: 0.0208 - val_loss: 0.1215 - val_mape: 0.0217\n",
      "Epoch 9/15\n",
      "17/17 [==============================] - 0s 15ms/step - loss: 0.0430 - mape: 0.0202 - val_loss: 0.1306 - val_mape: 0.0245\n",
      "Epoch 10/15\n",
      "17/17 [==============================] - 0s 15ms/step - loss: 0.0365 - mape: 0.0171 - val_loss: 0.1282 - val_mape: 0.0251\n",
      "Epoch 11/15\n",
      "17/17 [==============================] - 0s 15ms/step - loss: 0.0369 - mape: 0.0175 - val_loss: 0.1296 - val_mape: 0.0249\n",
      "Epoch 12/15\n",
      "17/17 [==============================] - 0s 16ms/step - loss: 0.0374 - mape: 0.0194 - val_loss: 0.1263 - val_mape: 0.0247\n",
      "Epoch 13/15\n",
      "17/17 [==============================] - 0s 15ms/step - loss: 0.0371 - mape: 0.0186 - val_loss: 0.1277 - val_mape: 0.0281\n",
      "Epoch 14/15\n",
      "17/17 [==============================] - 0s 17ms/step - loss: 0.0377 - mape: 0.0191 - val_loss: 0.1225 - val_mape: 0.0244\n",
      "Epoch 15/15\n",
      "17/17 [==============================] - 0s 20ms/step - loss: 0.0381 - mape: 0.0204 - val_loss: 0.1268 - val_mape: 0.0271\n"
     ]
    },
    {
     "name": "stderr",
     "output_type": "stream",
     "text": [
      "[I 2023-11-27 01:56:11,675] Trial 12 finished with value: 0.027059918269515038 and parameters: {'learning_rate': 0.0041777546916324255, 'weight_decay': 5.546249601530444e-08, 'recurrent': 321, 'dropout': 0.17035128051755483, 'epsilon': 0.07588639566237726}. Best is trial 3 with value: 0.02423774264752865.\n"
     ]
    },
    {
     "name": "stdout",
     "output_type": "stream",
     "text": [
      "Epoch 1/15\n",
      "17/17 [==============================] - 3s 42ms/step - loss: 1.7728 - mape: 0.3967 - val_loss: 0.3202 - val_mape: 0.1907\n",
      "Epoch 2/15\n",
      "17/17 [==============================] - 0s 12ms/step - loss: 0.1098 - mape: 0.1384 - val_loss: 0.1345 - val_mape: 0.0514\n",
      "Epoch 3/15\n",
      "17/17 [==============================] - 0s 12ms/step - loss: 0.0295 - mape: 0.0557 - val_loss: 0.1336 - val_mape: 0.0502\n",
      "Epoch 4/15\n",
      "17/17 [==============================] - 0s 17ms/step - loss: 0.0215 - mape: 0.0342 - val_loss: 0.1259 - val_mape: 0.0429\n",
      "Epoch 5/15\n",
      "17/17 [==============================] - 0s 12ms/step - loss: 0.0209 - mape: 0.0369 - val_loss: 0.1173 - val_mape: 0.0419\n",
      "Epoch 6/15\n",
      "17/17 [==============================] - 0s 12ms/step - loss: 0.0217 - mape: 0.0314 - val_loss: 0.1194 - val_mape: 0.0405\n",
      "Epoch 7/15\n",
      "17/17 [==============================] - 0s 12ms/step - loss: 0.0230 - mape: 0.0454 - val_loss: 0.1173 - val_mape: 0.0357\n",
      "Epoch 8/15\n",
      "17/17 [==============================] - 0s 13ms/step - loss: 0.0242 - mape: 0.0395 - val_loss: 0.1183 - val_mape: 0.0543\n",
      "Epoch 9/15\n",
      "17/17 [==============================] - 0s 12ms/step - loss: 0.0212 - mape: 0.0372 - val_loss: 0.1194 - val_mape: 0.0328\n",
      "Epoch 10/15\n",
      "17/17 [==============================] - 0s 13ms/step - loss: 0.0249 - mape: 0.0375 - val_loss: 0.1162 - val_mape: 0.0368\n",
      "Epoch 11/15\n",
      "17/17 [==============================] - 0s 13ms/step - loss: 0.0229 - mape: 0.0383 - val_loss: 0.1101 - val_mape: 0.0473\n",
      "Epoch 12/15\n",
      "17/17 [==============================] - 0s 13ms/step - loss: 0.0235 - mape: 0.0361 - val_loss: 0.1207 - val_mape: 0.0487\n",
      "Epoch 13/15\n",
      "17/17 [==============================] - 0s 12ms/step - loss: 0.0222 - mape: 0.0368 - val_loss: 0.1218 - val_mape: 0.0322\n",
      "Epoch 14/15\n",
      "17/17 [==============================] - 0s 12ms/step - loss: 0.0240 - mape: 0.0411 - val_loss: 0.1242 - val_mape: 0.0365\n",
      "Epoch 15/15\n",
      "17/17 [==============================] - 0s 12ms/step - loss: 0.0213 - mape: 0.0343 - val_loss: 0.1167 - val_mape: 0.0380\n"
     ]
    },
    {
     "name": "stderr",
     "output_type": "stream",
     "text": [
      "[I 2023-11-27 01:56:17,860] Trial 13 finished with value: 0.03798356652259827 and parameters: {'learning_rate': 0.0017333679778317188, 'weight_decay': 1.251811741984822e-06, 'recurrent': 241, 'dropout': 0.11303322598670552, 'epsilon': 0.08231949491460527}. Best is trial 3 with value: 0.02423774264752865.\n"
     ]
    },
    {
     "name": "stdout",
     "output_type": "stream",
     "text": [
      "Epoch 1/15\n",
      "17/17 [==============================] - 3s 48ms/step - loss: 1.4693 - mape: 0.3026 - val_loss: 0.1503 - val_mape: 0.0657\n",
      "Epoch 2/15\n",
      "17/17 [==============================] - 0s 18ms/step - loss: 0.1104 - mape: 0.1381 - val_loss: 0.2666 - val_mape: 0.2258\n",
      "Epoch 3/15\n",
      "17/17 [==============================] - 0s 19ms/step - loss: 0.0565 - mape: 0.0902 - val_loss: 0.1830 - val_mape: 0.1730\n",
      "Epoch 4/15\n",
      "17/17 [==============================] - 0s 26ms/step - loss: 0.0406 - mape: 0.0869 - val_loss: 0.1259 - val_mape: 0.0754\n",
      "Epoch 5/15\n",
      "17/17 [==============================] - 0s 21ms/step - loss: 0.0467 - mape: 0.0742 - val_loss: 0.1354 - val_mape: 0.1256\n",
      "Epoch 6/15\n",
      "17/17 [==============================] - 0s 20ms/step - loss: 0.0498 - mape: 0.0873 - val_loss: 0.1198 - val_mape: 0.0892\n",
      "Epoch 7/15\n",
      "17/17 [==============================] - 0s 20ms/step - loss: 0.0402 - mape: 0.0770 - val_loss: 0.1196 - val_mape: 0.0562\n",
      "Epoch 8/15\n",
      "17/17 [==============================] - 0s 21ms/step - loss: 0.0394 - mape: 0.0688 - val_loss: 0.1304 - val_mape: 0.0549\n",
      "Epoch 9/15\n",
      "17/17 [==============================] - 0s 26ms/step - loss: 0.0593 - mape: 0.1095 - val_loss: 0.1342 - val_mape: 0.0496\n",
      "Epoch 10/15\n",
      "17/17 [==============================] - 0s 21ms/step - loss: 0.0401 - mape: 0.0784 - val_loss: 0.1277 - val_mape: 0.0423\n",
      "Epoch 11/15\n",
      "17/17 [==============================] - 0s 20ms/step - loss: 0.0252 - mape: 0.0358 - val_loss: 0.1228 - val_mape: 0.0433\n",
      "Epoch 12/15\n",
      "17/17 [==============================] - 0s 21ms/step - loss: 0.0291 - mape: 0.0417 - val_loss: 0.1134 - val_mape: 0.0349\n",
      "Epoch 13/15\n",
      "17/17 [==============================] - 0s 21ms/step - loss: 0.0309 - mape: 0.0455 - val_loss: 0.1187 - val_mape: 0.0426\n",
      "Epoch 14/15\n",
      "17/17 [==============================] - 0s 21ms/step - loss: 0.0294 - mape: 0.0357 - val_loss: 0.1181 - val_mape: 0.0471\n",
      "Epoch 15/15\n",
      "17/17 [==============================] - 0s 21ms/step - loss: 0.0245 - mape: 0.0362 - val_loss: 0.1200 - val_mape: 0.0873\n"
     ]
    },
    {
     "name": "stderr",
     "output_type": "stream",
     "text": [
      "[I 2023-11-27 01:56:25,852] Trial 14 finished with value: 0.08729776740074158 and parameters: {'learning_rate': 0.0007763169736422204, 'weight_decay': 4.432572118109343e-08, 'recurrent': 395, 'dropout': 0.1429158033428612, 'epsilon': 0.07368216064989132}. Best is trial 3 with value: 0.02423774264752865.\n"
     ]
    },
    {
     "name": "stdout",
     "output_type": "stream",
     "text": [
      "Epoch 1/15\n",
      "17/17 [==============================] - 3s 46ms/step - loss: 3.1000 - mape: 0.5724 - val_loss: 0.1213 - val_mape: 0.0356\n",
      "Epoch 2/15\n",
      "17/17 [==============================] - 0s 15ms/step - loss: 0.1659 - mape: 0.1298 - val_loss: 0.1279 - val_mape: 0.0540\n",
      "Epoch 3/15\n",
      "17/17 [==============================] - 0s 16ms/step - loss: 0.0536 - mape: 0.0638 - val_loss: 0.1268 - val_mape: 0.0276\n",
      "Epoch 4/15\n",
      "17/17 [==============================] - 0s 16ms/step - loss: 0.0297 - mape: 0.0358 - val_loss: 0.1127 - val_mape: 0.0413\n",
      "Epoch 5/15\n",
      "17/17 [==============================] - 0s 20ms/step - loss: 0.0260 - mape: 0.0380 - val_loss: 0.1148 - val_mape: 0.0197\n",
      "Epoch 6/15\n",
      "17/17 [==============================] - 0s 16ms/step - loss: 0.0248 - mape: 0.0201 - val_loss: 0.1150 - val_mape: 0.0502\n",
      "Epoch 7/15\n",
      "17/17 [==============================] - 0s 16ms/step - loss: 0.0272 - mape: 0.0402 - val_loss: 0.1190 - val_mape: 0.0245\n",
      "Epoch 8/15\n",
      "17/17 [==============================] - 0s 17ms/step - loss: 0.0297 - mape: 0.0314 - val_loss: 0.1204 - val_mape: 0.0235\n",
      "Epoch 9/15\n",
      "17/17 [==============================] - 0s 17ms/step - loss: 0.0248 - mape: 0.0276 - val_loss: 0.1235 - val_mape: 0.0251\n",
      "Epoch 10/15\n",
      "17/17 [==============================] - 0s 17ms/step - loss: 0.0261 - mape: 0.0220 - val_loss: 0.1176 - val_mape: 0.0263\n",
      "Epoch 11/15\n",
      "17/17 [==============================] - 0s 17ms/step - loss: 0.0272 - mape: 0.0229 - val_loss: 0.1198 - val_mape: 0.0335\n",
      "Epoch 12/15\n",
      "17/17 [==============================] - 0s 18ms/step - loss: 0.0260 - mape: 0.0234 - val_loss: 0.1205 - val_mape: 0.0280\n",
      "Epoch 13/15\n",
      "17/17 [==============================] - 0s 17ms/step - loss: 0.0260 - mape: 0.0239 - val_loss: 0.1170 - val_mape: 0.0379\n",
      "Epoch 14/15\n",
      "17/17 [==============================] - 0s 17ms/step - loss: 0.0236 - mape: 0.0275 - val_loss: 0.1222 - val_mape: 0.0201\n",
      "Epoch 15/15\n",
      "17/17 [==============================] - 0s 18ms/step - loss: 0.0280 - mape: 0.0272 - val_loss: 0.1222 - val_mape: 0.0196\n"
     ]
    },
    {
     "name": "stderr",
     "output_type": "stream",
     "text": [
      "[I 2023-11-27 01:56:32,707] Trial 15 finished with value: 0.019594451412558556 and parameters: {'learning_rate': 0.0020271964953101304, 'weight_decay': 4.3341527500422397e-08, 'recurrent': 344, 'dropout': 0.2898124179530197, 'epsilon': 0.07266879576708941}. Best is trial 15 with value: 0.019594451412558556.\n"
     ]
    },
    {
     "name": "stdout",
     "output_type": "stream",
     "text": [
      "Epoch 1/15\n",
      "17/17 [==============================] - 3s 45ms/step - loss: 11.6211 - mape: 0.6584 - val_loss: 0.3792 - val_mape: 0.0766\n",
      "Epoch 2/15\n",
      "17/17 [==============================] - 0s 16ms/step - loss: 0.1510 - mape: 0.0608 - val_loss: 0.1518 - val_mape: 0.0186\n",
      "Epoch 3/15\n",
      "17/17 [==============================] - 0s 16ms/step - loss: 0.0354 - mape: 0.0335 - val_loss: 0.1166 - val_mape: 0.0187\n",
      "Epoch 4/15\n",
      "17/17 [==============================] - 0s 16ms/step - loss: 0.0251 - mape: 0.0159 - val_loss: 0.1198 - val_mape: 0.0249\n",
      "Epoch 5/15\n",
      "17/17 [==============================] - 0s 16ms/step - loss: 0.0280 - mape: 0.0261 - val_loss: 0.1250 - val_mape: 0.0182\n",
      "Epoch 6/15\n",
      "17/17 [==============================] - 0s 17ms/step - loss: 0.0258 - mape: 0.0203 - val_loss: 0.1264 - val_mape: 0.0217\n",
      "Epoch 7/15\n",
      "17/17 [==============================] - 0s 16ms/step - loss: 0.0294 - mape: 0.0202 - val_loss: 0.1225 - val_mape: 0.0174\n",
      "Epoch 8/15\n",
      "17/17 [==============================] - 0s 16ms/step - loss: 0.0274 - mape: 0.0210 - val_loss: 0.1187 - val_mape: 0.0201\n",
      "Epoch 9/15\n",
      "17/17 [==============================] - 0s 17ms/step - loss: 0.0287 - mape: 0.0201 - val_loss: 0.1223 - val_mape: 0.0287\n",
      "Epoch 10/15\n",
      "17/17 [==============================] - 0s 16ms/step - loss: 0.0295 - mape: 0.0214 - val_loss: 0.1259 - val_mape: 0.0212\n",
      "Epoch 11/15\n",
      "17/17 [==============================] - 0s 19ms/step - loss: 0.0317 - mape: 0.0205 - val_loss: 0.1284 - val_mape: 0.0185\n",
      "Epoch 12/15\n",
      "17/17 [==============================] - 0s 17ms/step - loss: 0.0325 - mape: 0.0203 - val_loss: 0.1250 - val_mape: 0.0185\n",
      "Epoch 13/15\n",
      "17/17 [==============================] - 0s 17ms/step - loss: 0.0321 - mape: 0.0257 - val_loss: 0.1273 - val_mape: 0.0199\n",
      "Epoch 14/15\n",
      "17/17 [==============================] - 0s 17ms/step - loss: 0.0343 - mape: 0.0197 - val_loss: 0.1268 - val_mape: 0.0217\n",
      "Epoch 15/15\n",
      "17/17 [==============================] - 0s 17ms/step - loss: 0.0332 - mape: 0.0181 - val_loss: 0.1277 - val_mape: 0.0184\n"
     ]
    },
    {
     "name": "stderr",
     "output_type": "stream",
     "text": [
      "[I 2023-11-27 01:56:39,558] Trial 16 finished with value: 0.018439389765262604 and parameters: {'learning_rate': 0.006432124788012449, 'weight_decay': 1.1473452824299818e-06, 'recurrent': 347, 'dropout': 0.32488495476124757, 'epsilon': 0.07089012363856804}. Best is trial 16 with value: 0.018439389765262604.\n"
     ]
    },
    {
     "name": "stdout",
     "output_type": "stream",
     "text": [
      "Epoch 1/15\n",
      "17/17 [==============================] - 3s 50ms/step - loss: 6.4290 - mape: 0.6081 - val_loss: 0.2941 - val_mape: 0.2094\n",
      "Epoch 2/15\n",
      "17/17 [==============================] - 0s 22ms/step - loss: 0.1306 - mape: 0.1043 - val_loss: 0.1699 - val_mape: 0.0556\n",
      "Epoch 3/15\n",
      "17/17 [==============================] - 0s 22ms/step - loss: 0.0652 - mape: 0.0259 - val_loss: 0.1261 - val_mape: 0.0269\n",
      "Epoch 4/15\n",
      "17/17 [==============================] - 0s 23ms/step - loss: 0.0518 - mape: 0.0165 - val_loss: 0.1331 - val_mape: 0.0232\n",
      "Epoch 5/15\n",
      "17/17 [==============================] - 0s 23ms/step - loss: 0.0422 - mape: 0.0182 - val_loss: 0.1297 - val_mape: 0.0313\n",
      "Epoch 6/15\n",
      "17/17 [==============================] - 0s 23ms/step - loss: 0.0434 - mape: 0.0247 - val_loss: 0.1357 - val_mape: 0.0313\n",
      "Epoch 7/15\n",
      "17/17 [==============================] - 0s 23ms/step - loss: 0.0441 - mape: 0.0199 - val_loss: 0.1314 - val_mape: 0.0295\n",
      "Epoch 8/15\n",
      "17/17 [==============================] - 0s 24ms/step - loss: 0.0433 - mape: 0.0216 - val_loss: 0.1353 - val_mape: 0.0358\n",
      "Epoch 9/15\n",
      "17/17 [==============================] - 0s 23ms/step - loss: 0.0454 - mape: 0.0206 - val_loss: 0.1403 - val_mape: 0.0287\n",
      "Epoch 10/15\n",
      "17/17 [==============================] - 1s 33ms/step - loss: 0.0442 - mape: 0.0207 - val_loss: 0.1372 - val_mape: 0.0331\n",
      "Epoch 11/15\n",
      "17/17 [==============================] - 0s 24ms/step - loss: 0.0404 - mape: 0.0215 - val_loss: 0.1354 - val_mape: 0.0311\n",
      "Epoch 12/15\n",
      "17/17 [==============================] - 0s 30ms/step - loss: 0.0371 - mape: 0.0204 - val_loss: 0.1251 - val_mape: 0.0293\n",
      "Epoch 13/15\n",
      "17/17 [==============================] - 0s 23ms/step - loss: 0.0346 - mape: 0.0206 - val_loss: 0.1289 - val_mape: 0.0214\n",
      "Epoch 14/15\n",
      "17/17 [==============================] - 0s 23ms/step - loss: 0.0365 - mape: 0.0185 - val_loss: 0.1273 - val_mape: 0.0271\n",
      "Epoch 15/15\n",
      "17/17 [==============================] - 0s 24ms/step - loss: 0.0391 - mape: 0.0193 - val_loss: 0.1282 - val_mape: 0.0296\n"
     ]
    },
    {
     "name": "stderr",
     "output_type": "stream",
     "text": [
      "[I 2023-11-27 01:56:48,311] Trial 17 finished with value: 0.029621606692671776 and parameters: {'learning_rate': 0.003295859829231444, 'weight_decay': 6.755882444217169e-09, 'recurrent': 430, 'dropout': 0.34205520943050205, 'epsilon': 0.07553357267661709}. Best is trial 16 with value: 0.018439389765262604.\n"
     ]
    },
    {
     "name": "stdout",
     "output_type": "stream",
     "text": [
      "Epoch 1/15\n",
      "17/17 [==============================] - 3s 72ms/step - loss: 7.1892 - mape: 0.5667 - val_loss: 0.1826 - val_mape: 0.0560\n",
      "Epoch 2/15\n",
      "17/17 [==============================] - 0s 14ms/step - loss: 0.0763 - mape: 0.0300 - val_loss: 0.1308 - val_mape: 0.0266\n",
      "Epoch 3/15\n",
      "17/17 [==============================] - 0s 14ms/step - loss: 0.0654 - mape: 0.0250 - val_loss: 0.1328 - val_mape: 0.0266\n",
      "Epoch 4/15\n",
      "17/17 [==============================] - 0s 14ms/step - loss: 0.0645 - mape: 0.0325 - val_loss: 0.1278 - val_mape: 0.0202\n",
      "Epoch 5/15\n",
      "17/17 [==============================] - 0s 14ms/step - loss: 0.0523 - mape: 0.0368 - val_loss: 0.1447 - val_mape: 0.0449\n",
      "Epoch 6/15\n",
      "17/17 [==============================] - 0s 14ms/step - loss: 0.0501 - mape: 0.0226 - val_loss: 0.1347 - val_mape: 0.0281\n",
      "Epoch 7/15\n",
      "17/17 [==============================] - 0s 14ms/step - loss: 0.0547 - mape: 0.0331 - val_loss: 0.1385 - val_mape: 0.0382\n",
      "Epoch 8/15\n",
      "17/17 [==============================] - 0s 15ms/step - loss: 0.0480 - mape: 0.0349 - val_loss: 0.1522 - val_mape: 0.0394\n",
      "Epoch 9/15\n",
      "17/17 [==============================] - 0s 15ms/step - loss: 0.0547 - mape: 0.0346 - val_loss: 0.1202 - val_mape: 0.0396\n",
      "Epoch 10/15\n",
      "17/17 [==============================] - 0s 15ms/step - loss: 0.0415 - mape: 0.0227 - val_loss: 0.1207 - val_mape: 0.0211\n",
      "Epoch 11/15\n",
      "17/17 [==============================] - 0s 14ms/step - loss: 0.0396 - mape: 0.0244 - val_loss: 0.1288 - val_mape: 0.0297\n",
      "Epoch 12/15\n",
      "17/17 [==============================] - 0s 14ms/step - loss: 0.0399 - mape: 0.0216 - val_loss: 0.1285 - val_mape: 0.0204\n",
      "Epoch 13/15\n",
      "17/17 [==============================] - 0s 14ms/step - loss: 0.0359 - mape: 0.0232 - val_loss: 0.1560 - val_mape: 0.0379\n",
      "Epoch 14/15\n",
      "17/17 [==============================] - 0s 19ms/step - loss: 0.0395 - mape: 0.0286 - val_loss: 0.1347 - val_mape: 0.0324\n",
      "Epoch 15/15\n",
      "17/17 [==============================] - 0s 14ms/step - loss: 0.0377 - mape: 0.0282 - val_loss: 0.1270 - val_mape: 0.0245\n"
     ]
    },
    {
     "name": "stderr",
     "output_type": "stream",
     "text": [
      "[I 2023-11-27 01:56:55,018] Trial 18 finished with value: 0.024522118270397186 and parameters: {'learning_rate': 0.0065086084873652575, 'weight_decay': 1.206983205781137e-06, 'recurrent': 302, 'dropout': 0.3344211759105447, 'epsilon': 0.08100966737574603}. Best is trial 16 with value: 0.018439389765262604.\n"
     ]
    },
    {
     "name": "stdout",
     "output_type": "stream",
     "text": [
      "Epoch 1/15\n",
      "17/17 [==============================] - 3s 59ms/step - loss: 2.6259 - mape: 0.5206 - val_loss: 0.5423 - val_mape: 0.2089\n",
      "Epoch 2/15\n",
      "17/17 [==============================] - 1s 31ms/step - loss: 0.2197 - mape: 0.0979 - val_loss: 0.1481 - val_mape: 0.0463\n",
      "Epoch 3/15\n",
      "17/17 [==============================] - 1s 30ms/step - loss: 0.0397 - mape: 0.0439 - val_loss: 0.1297 - val_mape: 0.0355\n",
      "Epoch 4/15\n",
      "17/17 [==============================] - 0s 29ms/step - loss: 0.0339 - mape: 0.0419 - val_loss: 0.1269 - val_mape: 0.0217\n",
      "Epoch 5/15\n",
      "17/17 [==============================] - 1s 30ms/step - loss: 0.0299 - mape: 0.0416 - val_loss: 0.1172 - val_mape: 0.0232\n",
      "Epoch 6/15\n",
      "17/17 [==============================] - 1s 31ms/step - loss: 0.0275 - mape: 0.0313 - val_loss: 0.1241 - val_mape: 0.0223\n",
      "Epoch 7/15\n",
      "17/17 [==============================] - 1s 31ms/step - loss: 0.0310 - mape: 0.0335 - val_loss: 0.1300 - val_mape: 0.0253\n",
      "Epoch 8/15\n",
      "17/17 [==============================] - 1s 37ms/step - loss: 0.0297 - mape: 0.0208 - val_loss: 0.1188 - val_mape: 0.0305\n",
      "Epoch 9/15\n",
      "17/17 [==============================] - 1s 31ms/step - loss: 0.0263 - mape: 0.0288 - val_loss: 0.1204 - val_mape: 0.0207\n",
      "Epoch 10/15\n",
      "17/17 [==============================] - 1s 32ms/step - loss: 0.0260 - mape: 0.0294 - val_loss: 0.1138 - val_mape: 0.0242\n",
      "Epoch 11/15\n",
      "17/17 [==============================] - 1s 36ms/step - loss: 0.0311 - mape: 0.0379 - val_loss: 0.1254 - val_mape: 0.0258\n",
      "Epoch 12/15\n",
      "17/17 [==============================] - 1s 32ms/step - loss: 0.0288 - mape: 0.0298 - val_loss: 0.1145 - val_mape: 0.0336\n",
      "Epoch 13/15\n",
      "17/17 [==============================] - 1s 32ms/step - loss: 0.0296 - mape: 0.0330 - val_loss: 0.1231 - val_mape: 0.0349\n",
      "Epoch 14/15\n",
      "17/17 [==============================] - 1s 33ms/step - loss: 0.0339 - mape: 0.0468 - val_loss: 0.1271 - val_mape: 0.0222\n",
      "Epoch 15/15\n",
      "17/17 [==============================] - 1s 31ms/step - loss: 0.0300 - mape: 0.0240 - val_loss: 0.1223 - val_mape: 0.0239\n"
     ]
    },
    {
     "name": "stderr",
     "output_type": "stream",
     "text": [
      "[I 2023-11-27 01:57:05,776] Trial 19 finished with value: 0.023900458589196205 and parameters: {'learning_rate': 0.001992715474075982, 'weight_decay': 6.665748919794651e-07, 'recurrent': 499, 'dropout': 0.31988094732214456, 'epsilon': 0.06942612582031758}. Best is trial 16 with value: 0.018439389765262604.\n"
     ]
    },
    {
     "name": "stdout",
     "output_type": "stream",
     "text": [
      "Epoch 1/15\n",
      "17/17 [==============================] - 3s 46ms/step - loss: 3.4106 - mape: 0.5150 - val_loss: 0.7674 - val_mape: 0.3283\n",
      "Epoch 2/15\n",
      "17/17 [==============================] - 0s 16ms/step - loss: 0.3527 - mape: 0.1951 - val_loss: 0.1596 - val_mape: 0.0845\n",
      "Epoch 3/15\n",
      "17/17 [==============================] - 0s 15ms/step - loss: 0.1671 - mape: 0.1266 - val_loss: 0.1471 - val_mape: 0.0609\n",
      "Epoch 4/15\n",
      "17/17 [==============================] - 0s 16ms/step - loss: 0.1255 - mape: 0.1172 - val_loss: 0.1598 - val_mape: 0.0531\n",
      "Epoch 5/15\n",
      "17/17 [==============================] - 0s 16ms/step - loss: 0.0893 - mape: 0.0883 - val_loss: 0.1376 - val_mape: 0.0545\n",
      "Epoch 6/15\n",
      "17/17 [==============================] - 0s 16ms/step - loss: 0.0534 - mape: 0.0617 - val_loss: 0.1404 - val_mape: 0.0540\n",
      "Epoch 7/15\n",
      "17/17 [==============================] - 0s 16ms/step - loss: 0.0659 - mape: 0.0706 - val_loss: 0.1445 - val_mape: 0.0670\n",
      "Epoch 8/15\n",
      "17/17 [==============================] - 0s 17ms/step - loss: 0.0513 - mape: 0.0474 - val_loss: 0.1432 - val_mape: 0.0543\n",
      "Epoch 9/15\n",
      "17/17 [==============================] - 0s 16ms/step - loss: 0.0532 - mape: 0.0574 - val_loss: 0.1399 - val_mape: 0.0651\n",
      "Epoch 10/15\n",
      "17/17 [==============================] - 0s 17ms/step - loss: 0.0523 - mape: 0.0488 - val_loss: 0.1436 - val_mape: 0.0649\n",
      "Epoch 11/15\n",
      "17/17 [==============================] - 0s 17ms/step - loss: 0.1169 - mape: 0.1105 - val_loss: 0.1283 - val_mape: 0.0484\n",
      "Epoch 12/15\n",
      "17/17 [==============================] - 0s 20ms/step - loss: 0.1012 - mape: 0.1023 - val_loss: 0.1452 - val_mape: 0.0339\n",
      "Epoch 13/15\n",
      "17/17 [==============================] - 0s 17ms/step - loss: 0.0467 - mape: 0.0475 - val_loss: 0.1339 - val_mape: 0.0422\n",
      "Epoch 14/15\n",
      "17/17 [==============================] - 0s 18ms/step - loss: 0.0432 - mape: 0.0400 - val_loss: 0.1392 - val_mape: 0.0449\n",
      "Epoch 15/15\n",
      "17/17 [==============================] - 0s 17ms/step - loss: 0.0507 - mape: 0.0468 - val_loss: 0.1369 - val_mape: 0.0354\n"
     ]
    },
    {
     "name": "stderr",
     "output_type": "stream",
     "text": [
      "[I 2023-11-27 01:57:12,651] Trial 20 finished with value: 0.035412270575761795 and parameters: {'learning_rate': 0.00036703238641177144, 'weight_decay': 5.961143672441431e-08, 'recurrent': 337, 'dropout': 0.27436458693916094, 'epsilon': 0.044325379063878824}. Best is trial 16 with value: 0.018439389765262604.\n"
     ]
    },
    {
     "name": "stdout",
     "output_type": "stream",
     "text": [
      "Epoch 1/15\n",
      "17/17 [==============================] - 3s 50ms/step - loss: 10.3721 - mape: 0.6827 - val_loss: 0.3084 - val_mape: 0.1003\n",
      "Epoch 2/15\n",
      "17/17 [==============================] - 0s 21ms/step - loss: 0.0872 - mape: 0.0481 - val_loss: 0.1307 - val_mape: 0.0406\n",
      "Epoch 3/15\n",
      "17/17 [==============================] - 0s 22ms/step - loss: 0.0702 - mape: 0.0357 - val_loss: 0.1793 - val_mape: 0.0365\n",
      "Epoch 4/15\n",
      "17/17 [==============================] - 0s 23ms/step - loss: 0.0651 - mape: 0.0275 - val_loss: 0.1606 - val_mape: 0.0360\n",
      "Epoch 5/15\n",
      "17/17 [==============================] - 0s 28ms/step - loss: 0.0603 - mape: 0.0207 - val_loss: 0.1529 - val_mape: 0.0353\n",
      "Epoch 6/15\n",
      "17/17 [==============================] - 0s 24ms/step - loss: 0.0552 - mape: 0.0204 - val_loss: 0.1398 - val_mape: 0.0194\n",
      "Epoch 7/15\n",
      "17/17 [==============================] - 0s 27ms/step - loss: 0.0558 - mape: 0.0213 - val_loss: 0.1453 - val_mape: 0.0211\n",
      "Epoch 8/15\n",
      "17/17 [==============================] - 0s 26ms/step - loss: 0.0524 - mape: 0.0164 - val_loss: 0.1416 - val_mape: 0.0152\n",
      "Epoch 9/15\n",
      "17/17 [==============================] - 0s 25ms/step - loss: 0.0518 - mape: 0.0183 - val_loss: 0.1509 - val_mape: 0.0207\n",
      "Epoch 10/15\n",
      "17/17 [==============================] - 0s 24ms/step - loss: 0.0505 - mape: 0.0166 - val_loss: 0.1454 - val_mape: 0.0150\n",
      "Epoch 11/15\n",
      "17/17 [==============================] - 0s 24ms/step - loss: 0.0544 - mape: 0.0164 - val_loss: 0.1657 - val_mape: 0.0152\n",
      "Epoch 12/15\n",
      "17/17 [==============================] - 0s 24ms/step - loss: 0.0561 - mape: 0.0154 - val_loss: 0.1617 - val_mape: 0.0153\n",
      "Epoch 13/15\n",
      "17/17 [==============================] - 0s 28ms/step - loss: 0.0520 - mape: 0.0145 - val_loss: 0.1556 - val_mape: 0.0154\n",
      "Epoch 14/15\n",
      "17/17 [==============================] - 0s 29ms/step - loss: 0.0487 - mape: 0.0162 - val_loss: 0.1352 - val_mape: 0.0164\n",
      "Epoch 15/15\n",
      "17/17 [==============================] - 0s 24ms/step - loss: 0.0463 - mape: 0.0145 - val_loss: 0.1390 - val_mape: 0.0166\n"
     ]
    },
    {
     "name": "stderr",
     "output_type": "stream",
     "text": [
      "[I 2023-11-27 01:57:21,493] Trial 21 finished with value: 0.016552729532122612 and parameters: {'learning_rate': 0.004063072610620854, 'weight_decay': 1.551062041394896e-05, 'recurrent': 423, 'dropout': 0.35120165346082866, 'epsilon': 0.0612621014586058}. Best is trial 21 with value: 0.016552729532122612.\n"
     ]
    },
    {
     "name": "stdout",
     "output_type": "stream",
     "text": [
      "Epoch 1/15\n",
      "17/17 [==============================] - 3s 45ms/step - loss: 8.9226 - mape: 0.5541 - val_loss: 0.4280 - val_mape: 0.0148\n",
      "Epoch 2/15\n",
      "17/17 [==============================] - 0s 16ms/step - loss: 0.1206 - mape: 0.0323 - val_loss: 0.1517 - val_mape: 0.0321\n",
      "Epoch 3/15\n",
      "17/17 [==============================] - 0s 16ms/step - loss: 0.0534 - mape: 0.0272 - val_loss: 0.1355 - val_mape: 0.0271\n",
      "Epoch 4/15\n",
      "17/17 [==============================] - 0s 16ms/step - loss: 0.0326 - mape: 0.0205 - val_loss: 0.1262 - val_mape: 0.0173\n",
      "Epoch 5/15\n",
      "17/17 [==============================] - 0s 17ms/step - loss: 0.0352 - mape: 0.0252 - val_loss: 0.1353 - val_mape: 0.0279\n",
      "Epoch 6/15\n",
      "17/17 [==============================] - 0s 21ms/step - loss: 0.0353 - mape: 0.0231 - val_loss: 0.1369 - val_mape: 0.0237\n",
      "Epoch 7/15\n",
      "17/17 [==============================] - 0s 21ms/step - loss: 0.0400 - mape: 0.0268 - val_loss: 0.1316 - val_mape: 0.0158\n",
      "Epoch 8/15\n",
      "17/17 [==============================] - 0s 17ms/step - loss: 0.0456 - mape: 0.0297 - val_loss: 0.1444 - val_mape: 0.0236\n",
      "Epoch 9/15\n",
      "17/17 [==============================] - 0s 17ms/step - loss: 0.0437 - mape: 0.0255 - val_loss: 0.1396 - val_mape: 0.0190\n",
      "Epoch 10/15\n",
      "17/17 [==============================] - 0s 17ms/step - loss: 0.0422 - mape: 0.0255 - val_loss: 0.1360 - val_mape: 0.0200\n",
      "Epoch 11/15\n",
      "17/17 [==============================] - 0s 18ms/step - loss: 0.0450 - mape: 0.0213 - val_loss: 0.1439 - val_mape: 0.0141\n",
      "Epoch 12/15\n",
      "17/17 [==============================] - 0s 18ms/step - loss: 0.0513 - mape: 0.0306 - val_loss: 0.1510 - val_mape: 0.0246\n",
      "Epoch 13/15\n",
      "17/17 [==============================] - 0s 23ms/step - loss: 0.0520 - mape: 0.0251 - val_loss: 0.1541 - val_mape: 0.0253\n",
      "Epoch 14/15\n",
      "17/17 [==============================] - 0s 18ms/step - loss: 0.0522 - mape: 0.0340 - val_loss: 0.1549 - val_mape: 0.0301\n",
      "Epoch 15/15\n",
      "17/17 [==============================] - 0s 22ms/step - loss: 0.0475 - mape: 0.0277 - val_loss: 0.1443 - val_mape: 0.0244\n"
     ]
    },
    {
     "name": "stderr",
     "output_type": "stream",
     "text": [
      "[I 2023-11-27 01:57:28,715] Trial 22 finished with value: 0.024378100410103798 and parameters: {'learning_rate': 0.005810896694393887, 'weight_decay': 7.1673536738649055e-06, 'recurrent': 350, 'dropout': 0.4576030114953384, 'epsilon': 0.060031682302159835}. Best is trial 21 with value: 0.016552729532122612.\n"
     ]
    },
    {
     "name": "stdout",
     "output_type": "stream",
     "text": [
      "Epoch 1/15\n",
      "17/17 [==============================] - 3s 49ms/step - loss: 3.2259 - mape: 0.5628 - val_loss: 0.1887 - val_mape: 0.1279\n",
      "Epoch 2/15\n",
      "17/17 [==============================] - 0s 15ms/step - loss: 0.1149 - mape: 0.1220 - val_loss: 0.1384 - val_mape: 0.0236\n",
      "Epoch 3/15\n",
      "17/17 [==============================] - 0s 15ms/step - loss: 0.0414 - mape: 0.0404 - val_loss: 0.1306 - val_mape: 0.0148\n",
      "Epoch 4/15\n",
      "17/17 [==============================] - 0s 15ms/step - loss: 0.0240 - mape: 0.0166 - val_loss: 0.1131 - val_mape: 0.0168\n",
      "Epoch 5/15\n",
      "17/17 [==============================] - 0s 16ms/step - loss: 0.0237 - mape: 0.0169 - val_loss: 0.1086 - val_mape: 0.0185\n",
      "Epoch 6/15\n",
      "17/17 [==============================] - 0s 15ms/step - loss: 0.0236 - mape: 0.0195 - val_loss: 0.1103 - val_mape: 0.0198\n",
      "Epoch 7/15\n",
      "17/17 [==============================] - 0s 16ms/step - loss: 0.0227 - mape: 0.0170 - val_loss: 0.1102 - val_mape: 0.0204\n",
      "Epoch 8/15\n",
      "17/17 [==============================] - 0s 16ms/step - loss: 0.0239 - mape: 0.0170 - val_loss: 0.1096 - val_mape: 0.0166\n",
      "Epoch 9/15\n",
      "17/17 [==============================] - 0s 16ms/step - loss: 0.0248 - mape: 0.0143 - val_loss: 0.1111 - val_mape: 0.0238\n",
      "Epoch 10/15\n",
      "17/17 [==============================] - 0s 15ms/step - loss: 0.0239 - mape: 0.0218 - val_loss: 0.1147 - val_mape: 0.0175\n",
      "Epoch 11/15\n",
      "17/17 [==============================] - 0s 16ms/step - loss: 0.0258 - mape: 0.0138 - val_loss: 0.1156 - val_mape: 0.0234\n",
      "Epoch 12/15\n",
      "17/17 [==============================] - 0s 15ms/step - loss: 0.0270 - mape: 0.0221 - val_loss: 0.1178 - val_mape: 0.0166\n",
      "Epoch 13/15\n",
      "17/17 [==============================] - 0s 16ms/step - loss: 0.0269 - mape: 0.0140 - val_loss: 0.1165 - val_mape: 0.0210\n",
      "Epoch 14/15\n",
      "17/17 [==============================] - 0s 17ms/step - loss: 0.0272 - mape: 0.0192 - val_loss: 0.1146 - val_mape: 0.0159\n",
      "Epoch 15/15\n",
      "17/17 [==============================] - 0s 16ms/step - loss: 0.0266 - mape: 0.0180 - val_loss: 0.1154 - val_mape: 0.0299\n"
     ]
    },
    {
     "name": "stderr",
     "output_type": "stream",
     "text": [
      "[I 2023-11-27 01:57:35,402] Trial 23 finished with value: 0.029945408925414085 and parameters: {'learning_rate': 0.002563253097722116, 'weight_decay': 1.233177511037024e-07, 'recurrent': 330, 'dropout': 0.3251020981383606, 'epsilon': 0.08346462976846644}. Best is trial 21 with value: 0.016552729532122612.\n"
     ]
    },
    {
     "name": "stdout",
     "output_type": "stream",
     "text": [
      "Epoch 1/15\n",
      "17/17 [==============================] - 3s 57ms/step - loss: 42.1663 - mape: 1.0773 - val_loss: 1.6370 - val_mape: 0.1818\n",
      "Epoch 2/15\n",
      "17/17 [==============================] - 0s 29ms/step - loss: 11.2985 - mape: 0.5631 - val_loss: 6.0374 - val_mape: 0.8217\n",
      "Epoch 3/15\n",
      "17/17 [==============================] - 0s 28ms/step - loss: 5.4421 - mape: 0.5123 - val_loss: 0.4031 - val_mape: 0.0814\n",
      "Epoch 4/15\n",
      "17/17 [==============================] - 0s 29ms/step - loss: 0.1919 - mape: 0.0661 - val_loss: 0.2194 - val_mape: 0.0252\n",
      "Epoch 5/15\n",
      "17/17 [==============================] - 1s 30ms/step - loss: 0.1080 - mape: 0.0293 - val_loss: 0.1767 - val_mape: 0.0244\n",
      "Epoch 6/15\n",
      "17/17 [==============================] - 1s 30ms/step - loss: 0.0773 - mape: 0.0295 - val_loss: 0.1660 - val_mape: 0.0205\n",
      "Epoch 7/15\n",
      "17/17 [==============================] - 1s 33ms/step - loss: 0.0835 - mape: 0.0279 - val_loss: 0.1861 - val_mape: 0.0201\n",
      "Epoch 8/15\n",
      "17/17 [==============================] - 1s 30ms/step - loss: 0.0753 - mape: 0.0273 - val_loss: 0.1814 - val_mape: 0.0205\n",
      "Epoch 9/15\n",
      "17/17 [==============================] - 0s 29ms/step - loss: 0.0693 - mape: 0.0184 - val_loss: 0.1770 - val_mape: 0.0259\n",
      "Epoch 10/15\n",
      "17/17 [==============================] - 1s 30ms/step - loss: 0.0761 - mape: 0.0296 - val_loss: 0.1676 - val_mape: 0.0197\n",
      "Epoch 11/15\n",
      "17/17 [==============================] - 1s 30ms/step - loss: 0.0689 - mape: 0.0264 - val_loss: 0.1845 - val_mape: 0.0228\n",
      "Epoch 12/15\n",
      "17/17 [==============================] - 1s 35ms/step - loss: 0.0650 - mape: 0.0315 - val_loss: 0.1471 - val_mape: 0.0202\n",
      "Epoch 13/15\n",
      "17/17 [==============================] - 1s 34ms/step - loss: 0.0666 - mape: 0.0204 - val_loss: 0.1860 - val_mape: 0.0192\n",
      "Epoch 14/15\n",
      "17/17 [==============================] - 1s 31ms/step - loss: 0.0659 - mape: 0.0292 - val_loss: 0.1765 - val_mape: 0.0584\n",
      "Epoch 15/15\n",
      "17/17 [==============================] - 1s 31ms/step - loss: 0.0646 - mape: 0.0385 - val_loss: 0.1451 - val_mape: 0.0323\n"
     ]
    },
    {
     "name": "stderr",
     "output_type": "stream",
     "text": [
      "[I 2023-11-27 01:57:45,876] Trial 24 finished with value: 0.032335665076971054 and parameters: {'learning_rate': 0.0099740112612904, 'weight_decay': 2.3326420736416067e-05, 'recurrent': 498, 'dropout': 0.2430157853058602, 'epsilon': 0.06062587062950604}. Best is trial 21 with value: 0.016552729532122612.\n"
     ]
    }
   ],
   "source": [
    "study = create_study()"
   ]
  },
  {
   "cell_type": "code",
   "execution_count": 4,
   "metadata": {},
   "outputs": [
    {
     "name": "stdout",
     "output_type": "stream",
     "text": [
      "Study statistics: \n",
      "  Number of finished trials:  25\n",
      "  Number of pruned trials:  0\n",
      "  Number of complete trials:  25\n",
      "Best trial:\n",
      "  Value:  0.016552729532122612\n"
     ]
    }
   ],
   "source": [
    "hyper = get_optimized_parameters(study=study)"
   ]
  },
  {
   "cell_type": "code",
   "execution_count": 5,
   "metadata": {},
   "outputs": [
    {
     "data": {
      "text/plain": [
       "{'learning_rate': 0.004063072610620854,\n",
       " 'weight_decay': 1.551062041394896e-05,\n",
       " 'recurrent': 423,\n",
       " 'dropout': 0.35120165346082866,\n",
       " 'epsilon': 0.0612621014586058}"
      ]
     },
     "execution_count": 5,
     "metadata": {},
     "output_type": "execute_result"
    }
   ],
   "source": [
    "hyper"
   ]
  },
  {
   "cell_type": "code",
   "execution_count": 6,
   "metadata": {},
   "outputs": [
    {
     "name": "stdout",
     "output_type": "stream",
     "text": [
      "Epoch 1/15\n",
      "17/17 [==============================] - 4s 55ms/step - loss: 9.9821 - mape: 0.6851 - val_loss: 0.3462 - val_mape: 0.1163\n",
      "Epoch 2/15\n",
      "17/17 [==============================] - 0s 20ms/step - loss: 0.1125 - mape: 0.0478 - val_loss: 0.1706 - val_mape: 0.0388\n",
      "Epoch 3/15\n",
      "17/17 [==============================] - 0s 20ms/step - loss: 0.0749 - mape: 0.0343 - val_loss: 0.1482 - val_mape: 0.0187\n",
      "Epoch 4/15\n",
      "17/17 [==============================] - 0s 21ms/step - loss: 0.0629 - mape: 0.0188 - val_loss: 0.1382 - val_mape: 0.0208\n",
      "Epoch 5/15\n",
      "17/17 [==============================] - 0s 21ms/step - loss: 0.0547 - mape: 0.0196 - val_loss: 0.1530 - val_mape: 0.0173\n",
      "Epoch 6/15\n",
      "17/17 [==============================] - 0s 21ms/step - loss: 0.0535 - mape: 0.0260 - val_loss: 0.1573 - val_mape: 0.0209\n",
      "Epoch 7/15\n",
      "17/17 [==============================] - 0s 21ms/step - loss: 0.0548 - mape: 0.0301 - val_loss: 0.1674 - val_mape: 0.0356\n",
      "Epoch 8/15\n",
      "17/17 [==============================] - 0s 25ms/step - loss: 0.0528 - mape: 0.0239 - val_loss: 0.1506 - val_mape: 0.0318\n",
      "Epoch 9/15\n",
      "17/17 [==============================] - 0s 21ms/step - loss: 0.0530 - mape: 0.0201 - val_loss: 0.1412 - val_mape: 0.0208\n",
      "Epoch 10/15\n",
      "17/17 [==============================] - 0s 22ms/step - loss: 0.0505 - mape: 0.0185 - val_loss: 0.1475 - val_mape: 0.0221\n",
      "Epoch 11/15\n",
      "17/17 [==============================] - 0s 22ms/step - loss: 0.0454 - mape: 0.0137 - val_loss: 0.1404 - val_mape: 0.0167\n",
      "Epoch 12/15\n",
      "17/17 [==============================] - 0s 25ms/step - loss: 0.0463 - mape: 0.0162 - val_loss: 0.1385 - val_mape: 0.0198\n",
      "Epoch 13/15\n",
      "17/17 [==============================] - 0s 23ms/step - loss: 0.0434 - mape: 0.0128 - val_loss: 0.1353 - val_mape: 0.0175\n",
      "Epoch 14/15\n",
      "17/17 [==============================] - 0s 23ms/step - loss: 0.0423 - mape: 0.0150 - val_loss: 0.1345 - val_mape: 0.0183\n",
      "Epoch 15/15\n",
      "17/17 [==============================] - 0s 23ms/step - loss: 0.0443 - mape: 0.0134 - val_loss: 0.1317 - val_mape: 0.0167\n",
      "1/1 [==============================] - 1s 622ms/step\n"
     ]
    }
   ],
   "source": [
    "y_pred = test_model(rec_units=hyper['recurrent'],\n",
    "                    dropout_units=hyper['dropout'],\n",
    "                    learning_rate=hyper['learning_rate'],\n",
    "                    weight_decay=hyper['weight_decay'],\n",
    "                    epsilon=hyper['epsilon'])"
   ]
  },
  {
   "cell_type": "code",
   "execution_count": 7,
   "metadata": {},
   "outputs": [],
   "source": [
    "from model import calculateRV, invTransform, test_y, evaluate_forecast, val_size\n",
    "\n",
    "pred = np.array(calculateRV(invTransform(sig=y_pred))).ravel()\n",
    "actual = np.array(calculateRV(invTransform(sig=test_y))).ravel()"
   ]
  },
  {
   "cell_type": "code",
   "execution_count": 8,
   "metadata": {},
   "outputs": [
    {
     "data": {
      "text/plain": [
       "{'mape': 2.4316916158461344,\n",
       " 'me': 0.0717920622584923,\n",
       " 'mae': 0.5847013054268632,\n",
       " 'mpe': 2.3039642171648795,\n",
       " 'rmse': 0.9946929744489255,\n",
       " 'msle': 0.00921226284495531}"
      ]
     },
     "execution_count": 8,
     "metadata": {},
     "output_type": "execute_result"
    }
   ],
   "source": [
    "evaluate_forecast(forecast=pred, actual=actual)"
   ]
  },
  {
   "cell_type": "code",
   "execution_count": 9,
   "metadata": {},
   "outputs": [
    {
     "data": {
      "image/png": "[encoded data removed]",
      "text/plain": [
       "<Figure size 640x480 with 1 Axes>"
      ]
     },
     "metadata": {},
     "output_type": "display_data"
    }
   ],
   "source": [
    "import matplotlib.pyplot as plt\n",
    "\n",
    "plt.scatter(actual, pred)\n",
    "plt.show()"
   ]
  },
  {
   "cell_type": "code",
   "execution_count": null,
   "metadata": {},
   "outputs": [],
   "source": [
    "res = {\n",
    "    'date': dates,\n",
    "    'pred': pred,\n",
    "    'actual': actual\n",
    "}\n",
    "res = pd.DataFrame.from_dict(res, orient='columns')\n",
    "res['date'] = pd.to_datetime(res['date'], format='%Y-%m-%d %H:%M:%S')"
   ]
  },
  {
   "cell_type": "code",
   "execution_count": null,
   "metadata": {},
   "outputs": [],
   "source": []
  }
 ],
 "metadata": {
  "kernelspec": {
   "display_name": "final",
   "language": "python",
   "name": "python3"
  },
  "language_info": {
   "codemirror_mode": {
    "name": "ipython",
    "version": 3
   },
   "file_extension": ".py",
   "mimetype": "text/x-python",
   "name": "python",
   "nbconvert_exporter": "python",
   "pygments_lexer": "ipython3",
   "version": "3.10.13"
  }
 },
 "nbformat": 4,
 "nbformat_minor": 2
}
