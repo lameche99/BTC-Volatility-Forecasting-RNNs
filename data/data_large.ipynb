{
 "cells": [
  {
   "cell_type": "code",
   "execution_count": 38,
   "metadata": {},
   "outputs": [],
   "source": [
    "import pandas as pd\n",
    "import numpy as np\n",
    "import nltk\n",
    "from nltk.sentiment import SentimentIntensityAnalyzer"
   ]
  },
  {
   "cell_type": "markdown",
   "metadata": {},
   "source": [
    "# 1. **Twitter Data Cleaning**\n",
    "Downloaded a 2GB Kaggle dataset of BTC-related tweets. Timestamps span around 3 years at great granularity. Needed some cleaning as some observations where misplaced"
   ]
  },
  {
   "cell_type": "code",
   "execution_count": 2,
   "metadata": {},
   "outputs": [
    {
     "name": "stderr",
     "output_type": "stream",
     "text": [
      "/var/folders/xg/pf7prx2j6mngdfnzgpn5r9980000gn/T/ipykernel_65200/3423561035.py:1: DtypeWarning: Columns (1,2,3,4,5,6,7,8,9,10,11,12) have mixed types. Specify dtype option on import or set low_memory=False.\n",
      "  twt = pd.read_csv('../Bitcoin_tweets.csv') # 2GB\n"
     ]
    }
   ],
   "source": [
    "twt = pd.read_csv('../Bitcoin_tweets.csv') # 2GB"
   ]
  },
  {
   "cell_type": "code",
   "execution_count": 8,
   "metadata": {},
   "outputs": [],
   "source": [
    "ldates = twt['date'][twt['date'].apply(lambda x: str(x)[0] != '2')].dropna()\n",
    "htags = ldates[ldates.str.startswith('[')] # observations with hashtags in date column\n",
    "vrfy = ldates[~ldates.str.startswith('[')] # observations with tweet in date column"
   ]
  },
  {
   "cell_type": "code",
   "execution_count": 12,
   "metadata": {},
   "outputs": [],
   "source": [
    "twt.loc[htags.index, 'text'] = twt.loc[htags.index, 'user_verified'] # put text in right place from user_verified\n",
    "twt.loc[htags.index, 'date'] = twt.loc[htags.index, 'user_favourites'] # put dates in right place\n",
    "twt.loc[vrfy.index, 'text'] = twt.loc[vrfy.index, 'date'] # put text in right place from date\n",
    "twt.loc[vrfy.index, 'date'] = twt.loc[vrfy.index, 'user_verified'] # put date in right place"
   ]
  },
  {
   "cell_type": "code",
   "execution_count": 16,
   "metadata": {},
   "outputs": [],
   "source": [
    "fudate = twt.loc[4524465].date # one last observation with text misplaced\n",
    "twt.loc[4524465, 'text'] = fudate # put text in right place\n",
    "twt.loc[4524465, 'date'] = twt.loc[4524465].user_verified # put date in right place"
   ]
  },
  {
   "cell_type": "code",
   "execution_count": 20,
   "metadata": {},
   "outputs": [],
   "source": [
    "twt = twt.drop(2612133, axis=0) # drop an observation with wrong date and nan values"
   ]
  },
  {
   "cell_type": "code",
   "execution_count": 21,
   "metadata": {},
   "outputs": [],
   "source": [
    "twt['date'] = pd.to_datetime(twt['date'], format=\"%Y-%m-%d %H:%M:%S\")"
   ]
  },
  {
   "cell_type": "code",
   "execution_count": 40,
   "metadata": {},
   "outputs": [],
   "source": [
    "tweets = twt.loc[:, ['date', 'text']].copy()\n",
    "tweets.set_index('date', inplace=True)"
   ]
  },
  {
   "cell_type": "markdown",
   "metadata": {},
   "source": [
    "# 2. **Regulatory Dates**"
   ]
  },
  {
   "cell_type": "code",
   "execution_count": 28,
   "metadata": {},
   "outputs": [
    {
     "data": {
      "text/html": [
       "<div>\n",
       "<style scoped>\n",
       "    .dataframe tbody tr th:only-of-type {\n",
       "        vertical-align: middle;\n",
       "    }\n",
       "\n",
       "    .dataframe tbody tr th {\n",
       "        vertical-align: top;\n",
       "    }\n",
       "\n",
       "    .dataframe thead th {\n",
       "        text-align: right;\n",
       "    }\n",
       "</style>\n",
       "<table border=\"1\" class=\"dataframe\">\n",
       "  <thead>\n",
       "    <tr style=\"text-align: right;\">\n",
       "      <th></th>\n",
       "      <th>date</th>\n",
       "      <th>Country/Region</th>\n",
       "      <th>Topic</th>\n",
       "    </tr>\n",
       "  </thead>\n",
       "  <tbody>\n",
       "    <tr>\n",
       "      <th>0</th>\n",
       "      <td>2018-06-11</td>\n",
       "      <td>UK</td>\n",
       "      <td>AML/CFT</td>\n",
       "    </tr>\n",
       "    <tr>\n",
       "      <th>1</th>\n",
       "      <td>2019-10-01</td>\n",
       "      <td>US</td>\n",
       "      <td>Cyrpto firms can become SPDIs</td>\n",
       "    </tr>\n",
       "    <tr>\n",
       "      <th>2</th>\n",
       "      <td>2019-12-16</td>\n",
       "      <td>HK</td>\n",
       "      <td>Risk assessment for VASPs and AML/CFT</td>\n",
       "    </tr>\n",
       "    <tr>\n",
       "      <th>3</th>\n",
       "      <td>2020-01-30</td>\n",
       "      <td>US</td>\n",
       "      <td>OCC issued cease-and-desist to Safra Bank for ...</td>\n",
       "    </tr>\n",
       "    <tr>\n",
       "      <th>4</th>\n",
       "      <td>2020-06-04</td>\n",
       "      <td>US</td>\n",
       "      <td>OCC fair access to banking services</td>\n",
       "    </tr>\n",
       "  </tbody>\n",
       "</table>\n",
       "</div>"
      ],
      "text/plain": [
       "        date Country/Region                                              Topic\n",
       "0 2018-06-11             UK                                            AML/CFT\n",
       "1 2019-10-01             US                      Cyrpto firms can become SPDIs\n",
       "2 2019-12-16             HK              Risk assessment for VASPs and AML/CFT\n",
       "3 2020-01-30             US  OCC issued cease-and-desist to Safra Bank for ...\n",
       "4 2020-06-04             US                OCC fair access to banking services"
      ]
     },
     "execution_count": 28,
     "metadata": {},
     "output_type": "execute_result"
    }
   ],
   "source": [
    "regtime = pd.read_csv('./crypto_reg_timeline.csv')\n",
    "regtime['Date'] = pd.to_datetime(regtime['Date'].astype(str))\n",
    "regtime.rename({'Date': 'date'}, axis=1, inplace=True)\n",
    "regtime.head()"
   ]
  },
  {
   "cell_type": "code",
   "execution_count": 116,
   "metadata": {},
   "outputs": [
    {
     "data": {
      "text/html": [
       "<div>\n",
       "<style scoped>\n",
       "    .dataframe tbody tr th:only-of-type {\n",
       "        vertical-align: middle;\n",
       "    }\n",
       "\n",
       "    .dataframe tbody tr th {\n",
       "        vertical-align: top;\n",
       "    }\n",
       "\n",
       "    .dataframe thead th {\n",
       "        text-align: right;\n",
       "    }\n",
       "</style>\n",
       "<table border=\"1\" class=\"dataframe\">\n",
       "  <thead>\n",
       "    <tr style=\"text-align: right;\">\n",
       "      <th></th>\n",
       "      <th>date</th>\n",
       "      <th>Country/Region</th>\n",
       "      <th>Topic</th>\n",
       "    </tr>\n",
       "  </thead>\n",
       "  <tbody>\n",
       "    <tr>\n",
       "      <th>0</th>\n",
       "      <td>2018-06-11</td>\n",
       "      <td>UK</td>\n",
       "      <td>AML/CFT</td>\n",
       "    </tr>\n",
       "    <tr>\n",
       "      <th>1</th>\n",
       "      <td>2019-10-01</td>\n",
       "      <td>US</td>\n",
       "      <td>Cyrpto firms can become SPDIs</td>\n",
       "    </tr>\n",
       "    <tr>\n",
       "      <th>2</th>\n",
       "      <td>2019-12-16</td>\n",
       "      <td>HK</td>\n",
       "      <td>Risk assessment for VASPs and AML/CFT</td>\n",
       "    </tr>\n",
       "    <tr>\n",
       "      <th>3</th>\n",
       "      <td>2020-01-30</td>\n",
       "      <td>US</td>\n",
       "      <td>OCC issued cease-and-desist to Safra Bank for ...</td>\n",
       "    </tr>\n",
       "    <tr>\n",
       "      <th>4</th>\n",
       "      <td>2020-06-04</td>\n",
       "      <td>US</td>\n",
       "      <td>OCC fair access to banking services</td>\n",
       "    </tr>\n",
       "    <tr>\n",
       "      <th>5</th>\n",
       "      <td>2020-06-22</td>\n",
       "      <td>US</td>\n",
       "      <td>OCC banks can provide crypto custodiary services</td>\n",
       "    </tr>\n",
       "    <tr>\n",
       "      <th>6</th>\n",
       "      <td>2020-09-16</td>\n",
       "      <td>US</td>\n",
       "      <td>Kraken becomes SPDI</td>\n",
       "    </tr>\n",
       "    <tr>\n",
       "      <th>7</th>\n",
       "      <td>2020-09-21</td>\n",
       "      <td>US</td>\n",
       "      <td>OCC banks can hold reserves for stablecoin iss...</td>\n",
       "    </tr>\n",
       "    <tr>\n",
       "      <th>8</th>\n",
       "      <td>2021-01-04</td>\n",
       "      <td>US</td>\n",
       "      <td>OCC banks can engage in some payment-activitie...</td>\n",
       "    </tr>\n",
       "    <tr>\n",
       "      <th>9</th>\n",
       "      <td>2021-01-11</td>\n",
       "      <td>US</td>\n",
       "      <td>OCC recognizes authority of crypto business as...</td>\n",
       "    </tr>\n",
       "    <tr>\n",
       "      <th>10</th>\n",
       "      <td>2021-01-13</td>\n",
       "      <td>US</td>\n",
       "      <td>Anchorage Digital Bank granted trust charter</td>\n",
       "    </tr>\n",
       "    <tr>\n",
       "      <th>11</th>\n",
       "      <td>2021-02-05</td>\n",
       "      <td>US</td>\n",
       "      <td>Protego granted trust charter</td>\n",
       "    </tr>\n",
       "    <tr>\n",
       "      <th>12</th>\n",
       "      <td>2021-04-23</td>\n",
       "      <td>US</td>\n",
       "      <td>Paxos granted trust charter</td>\n",
       "    </tr>\n",
       "    <tr>\n",
       "      <th>13</th>\n",
       "      <td>2021-06-10</td>\n",
       "      <td>Global</td>\n",
       "      <td>BCBS preliminary prudential standards for cryp...</td>\n",
       "    </tr>\n",
       "    <tr>\n",
       "      <th>14</th>\n",
       "      <td>2022-02-16</td>\n",
       "      <td>Global</td>\n",
       "      <td>FSB publishes assessment of crypto risks</td>\n",
       "    </tr>\n",
       "    <tr>\n",
       "      <th>15</th>\n",
       "      <td>2022-04-21</td>\n",
       "      <td>US</td>\n",
       "      <td>OCC ADB has deficiencies in AML/CFT</td>\n",
       "    </tr>\n",
       "    <tr>\n",
       "      <th>16</th>\n",
       "      <td>2022-06-30</td>\n",
       "      <td>Global</td>\n",
       "      <td>BCBS second consulation on prudential treatmen...</td>\n",
       "    </tr>\n",
       "    <tr>\n",
       "      <th>17</th>\n",
       "      <td>2022-07-29</td>\n",
       "      <td>US</td>\n",
       "      <td>FDIC misrepresentation of insured funds by cry...</td>\n",
       "    </tr>\n",
       "    <tr>\n",
       "      <th>18</th>\n",
       "      <td>2022-10-11</td>\n",
       "      <td>US</td>\n",
       "      <td>FSB proposed framework for international regul...</td>\n",
       "    </tr>\n",
       "    <tr>\n",
       "      <th>19</th>\n",
       "      <td>2022-11-02</td>\n",
       "      <td>SP</td>\n",
       "      <td>First DeFi trades in wholesale markets of gove...</td>\n",
       "    </tr>\n",
       "    <tr>\n",
       "      <th>20</th>\n",
       "      <td>2022-12-16</td>\n",
       "      <td>Global</td>\n",
       "      <td>BCBS final standard on prudential treatment fo...</td>\n",
       "    </tr>\n",
       "    <tr>\n",
       "      <th>21</th>\n",
       "      <td>2023-01-27</td>\n",
       "      <td>US</td>\n",
       "      <td>FED wants to limit activitiy of SMBs from hold...</td>\n",
       "    </tr>\n",
       "    <tr>\n",
       "      <th>22</th>\n",
       "      <td>2023-03-12</td>\n",
       "      <td>US</td>\n",
       "      <td>SVB and Signature Bank crash</td>\n",
       "    </tr>\n",
       "    <tr>\n",
       "      <th>23</th>\n",
       "      <td>2023-06-29</td>\n",
       "      <td>EU</td>\n",
       "      <td>EU Parliament issued MiCAr legislation on cryp...</td>\n",
       "    </tr>\n",
       "  </tbody>\n",
       "</table>\n",
       "</div>"
      ],
      "text/plain": [
       "         date Country/Region  \\\n",
       "0  2018-06-11             UK   \n",
       "1  2019-10-01             US   \n",
       "2  2019-12-16             HK   \n",
       "3  2020-01-30             US   \n",
       "4  2020-06-04             US   \n",
       "5  2020-06-22             US   \n",
       "6  2020-09-16             US   \n",
       "7  2020-09-21             US   \n",
       "8  2021-01-04             US   \n",
       "9  2021-01-11             US   \n",
       "10 2021-01-13             US   \n",
       "11 2021-02-05             US   \n",
       "12 2021-04-23             US   \n",
       "13 2021-06-10         Global   \n",
       "14 2022-02-16         Global   \n",
       "15 2022-04-21             US   \n",
       "16 2022-06-30         Global   \n",
       "17 2022-07-29             US   \n",
       "18 2022-10-11             US   \n",
       "19 2022-11-02             SP   \n",
       "20 2022-12-16         Global   \n",
       "21 2023-01-27             US   \n",
       "22 2023-03-12             US   \n",
       "23 2023-06-29             EU   \n",
       "\n",
       "                                                Topic  \n",
       "0                                             AML/CFT  \n",
       "1                       Cyrpto firms can become SPDIs  \n",
       "2               Risk assessment for VASPs and AML/CFT  \n",
       "3   OCC issued cease-and-desist to Safra Bank for ...  \n",
       "4                 OCC fair access to banking services  \n",
       "5    OCC banks can provide crypto custodiary services  \n",
       "6                                 Kraken becomes SPDI  \n",
       "7   OCC banks can hold reserves for stablecoin iss...  \n",
       "8   OCC banks can engage in some payment-activitie...  \n",
       "9   OCC recognizes authority of crypto business as...  \n",
       "10       Anchorage Digital Bank granted trust charter  \n",
       "11                      Protego granted trust charter  \n",
       "12                        Paxos granted trust charter  \n",
       "13  BCBS preliminary prudential standards for cryp...  \n",
       "14           FSB publishes assessment of crypto risks  \n",
       "15                OCC ADB has deficiencies in AML/CFT  \n",
       "16  BCBS second consulation on prudential treatmen...  \n",
       "17  FDIC misrepresentation of insured funds by cry...  \n",
       "18  FSB proposed framework for international regul...  \n",
       "19  First DeFi trades in wholesale markets of gove...  \n",
       "20  BCBS final standard on prudential treatment fo...  \n",
       "21  FED wants to limit activitiy of SMBs from hold...  \n",
       "22                       SVB and Signature Bank crash  \n",
       "23  EU Parliament issued MiCAr legislation on cryp...  "
      ]
     },
     "execution_count": 116,
     "metadata": {},
     "output_type": "execute_result"
    }
   ],
   "source": [
    "regtime"
   ]
  },
  {
   "cell_type": "code",
   "execution_count": 129,
   "metadata": {},
   "outputs": [],
   "source": [
    "bcbs_date = pd.Timestamp('2021-02-05')\n",
    "dt = pd.Timedelta(days=20)"
   ]
  },
  {
   "cell_type": "code",
   "execution_count": 127,
   "metadata": {},
   "outputs": [
    {
     "data": {
      "text/plain": [
       "'BCBS final standard on prudential treatment for crypto exposures'"
      ]
     },
     "execution_count": 127,
     "metadata": {},
     "output_type": "execute_result"
    }
   ],
   "source": [
    "regtime.loc[regtime.date == bcbs_date].Topic.iloc[0]"
   ]
  },
  {
   "cell_type": "markdown",
   "metadata": {},
   "source": [
    "# 3. **Sentiment Analysis**"
   ]
  },
  {
   "cell_type": "code",
   "execution_count": 41,
   "metadata": {},
   "outputs": [
    {
     "name": "stderr",
     "output_type": "stream",
     "text": [
      "[nltk_data] Downloading package vader_lexicon to\n",
      "[nltk_data]     /Users/MicheleOrlandi/nltk_data...\n",
      "[nltk_data]   Package vader_lexicon is already up-to-date!\n"
     ]
    },
    {
     "ename": "KeyboardInterrupt",
     "evalue": "",
     "output_type": "error",
     "traceback": [
      "\u001b[0;31m---------------------------------------------------------------------------\u001b[0m",
      "\u001b[0;31mKeyboardInterrupt\u001b[0m                         Traceback (most recent call last)",
      "\u001b[1;32m/Users/MicheleOrlandi/Desktop/MGT8803/crypto-sentiment-analysis/data_large.ipynb Cella 16\u001b[0m line \u001b[0;36m9\n\u001b[1;32m      <a href='vscode-notebook-cell:/Users/MicheleOrlandi/Desktop/MGT8803/crypto-sentiment-analysis/data_large.ipynb#X26sZmlsZQ%3D%3D?line=5'>6</a>\u001b[0m     sentiment \u001b[39m=\u001b[39m analyzer\u001b[39m.\u001b[39mpolarity_scores(text)\n\u001b[1;32m      <a href='vscode-notebook-cell:/Users/MicheleOrlandi/Desktop/MGT8803/crypto-sentiment-analysis/data_large.ipynb#X26sZmlsZQ%3D%3D?line=6'>7</a>\u001b[0m     \u001b[39mreturn\u001b[39;00m sentiment[\u001b[39m'\u001b[39m\u001b[39mcompound\u001b[39m\u001b[39m'\u001b[39m]\n\u001b[0;32m----> <a href='vscode-notebook-cell:/Users/MicheleOrlandi/Desktop/MGT8803/crypto-sentiment-analysis/data_large.ipynb#X26sZmlsZQ%3D%3D?line=8'>9</a>\u001b[0m tweets[\u001b[39m'\u001b[39m\u001b[39msentiment_score\u001b[39m\u001b[39m'\u001b[39m] \u001b[39m=\u001b[39m tweets[\u001b[39m'\u001b[39;49m\u001b[39mtext\u001b[39;49m\u001b[39m'\u001b[39;49m]\u001b[39m.\u001b[39;49mapply(get_sentiment)\n",
      "File \u001b[0;32m/opt/miniconda3/envs/fintech/lib/python3.10/site-packages/pandas/core/series.py:4760\u001b[0m, in \u001b[0;36mSeries.apply\u001b[0;34m(self, func, convert_dtype, args, by_row, **kwargs)\u001b[0m\n\u001b[1;32m   4625\u001b[0m \u001b[39mdef\u001b[39;00m \u001b[39mapply\u001b[39m(\n\u001b[1;32m   4626\u001b[0m     \u001b[39mself\u001b[39m,\n\u001b[1;32m   4627\u001b[0m     func: AggFuncType,\n\u001b[0;32m   (...)\u001b[0m\n\u001b[1;32m   4632\u001b[0m     \u001b[39m*\u001b[39m\u001b[39m*\u001b[39mkwargs,\n\u001b[1;32m   4633\u001b[0m ) \u001b[39m-\u001b[39m\u001b[39m>\u001b[39m DataFrame \u001b[39m|\u001b[39m Series:\n\u001b[1;32m   4634\u001b[0m \u001b[39m    \u001b[39m\u001b[39m\"\"\"\u001b[39;00m\n\u001b[1;32m   4635\u001b[0m \u001b[39m    Invoke function on values of Series.\u001b[39;00m\n\u001b[1;32m   4636\u001b[0m \n\u001b[0;32m   (...)\u001b[0m\n\u001b[1;32m   4751\u001b[0m \u001b[39m    dtype: float64\u001b[39;00m\n\u001b[1;32m   4752\u001b[0m \u001b[39m    \"\"\"\u001b[39;00m\n\u001b[1;32m   4753\u001b[0m     \u001b[39mreturn\u001b[39;00m SeriesApply(\n\u001b[1;32m   4754\u001b[0m         \u001b[39mself\u001b[39;49m,\n\u001b[1;32m   4755\u001b[0m         func,\n\u001b[1;32m   4756\u001b[0m         convert_dtype\u001b[39m=\u001b[39;49mconvert_dtype,\n\u001b[1;32m   4757\u001b[0m         by_row\u001b[39m=\u001b[39;49mby_row,\n\u001b[1;32m   4758\u001b[0m         args\u001b[39m=\u001b[39;49margs,\n\u001b[1;32m   4759\u001b[0m         kwargs\u001b[39m=\u001b[39;49mkwargs,\n\u001b[0;32m-> 4760\u001b[0m     )\u001b[39m.\u001b[39;49mapply()\n",
      "File \u001b[0;32m/opt/miniconda3/envs/fintech/lib/python3.10/site-packages/pandas/core/apply.py:1207\u001b[0m, in \u001b[0;36mSeriesApply.apply\u001b[0;34m(self)\u001b[0m\n\u001b[1;32m   1204\u001b[0m     \u001b[39mreturn\u001b[39;00m \u001b[39mself\u001b[39m\u001b[39m.\u001b[39mapply_compat()\n\u001b[1;32m   1206\u001b[0m \u001b[39m# self.func is Callable\u001b[39;00m\n\u001b[0;32m-> 1207\u001b[0m \u001b[39mreturn\u001b[39;00m \u001b[39mself\u001b[39;49m\u001b[39m.\u001b[39;49mapply_standard()\n",
      "File \u001b[0;32m/opt/miniconda3/envs/fintech/lib/python3.10/site-packages/pandas/core/apply.py:1287\u001b[0m, in \u001b[0;36mSeriesApply.apply_standard\u001b[0;34m(self)\u001b[0m\n\u001b[1;32m   1281\u001b[0m \u001b[39m# row-wise access\u001b[39;00m\n\u001b[1;32m   1282\u001b[0m \u001b[39m# apply doesn't have a `na_action` keyword and for backward compat reasons\u001b[39;00m\n\u001b[1;32m   1283\u001b[0m \u001b[39m# we need to give `na_action=\"ignore\"` for categorical data.\u001b[39;00m\n\u001b[1;32m   1284\u001b[0m \u001b[39m# TODO: remove the `na_action=\"ignore\"` when that default has been changed in\u001b[39;00m\n\u001b[1;32m   1285\u001b[0m \u001b[39m#  Categorical (GH51645).\u001b[39;00m\n\u001b[1;32m   1286\u001b[0m action \u001b[39m=\u001b[39m \u001b[39m\"\u001b[39m\u001b[39mignore\u001b[39m\u001b[39m\"\u001b[39m \u001b[39mif\u001b[39;00m \u001b[39misinstance\u001b[39m(obj\u001b[39m.\u001b[39mdtype, CategoricalDtype) \u001b[39melse\u001b[39;00m \u001b[39mNone\u001b[39;00m\n\u001b[0;32m-> 1287\u001b[0m mapped \u001b[39m=\u001b[39m obj\u001b[39m.\u001b[39;49m_map_values(\n\u001b[1;32m   1288\u001b[0m     mapper\u001b[39m=\u001b[39;49mcurried, na_action\u001b[39m=\u001b[39;49maction, convert\u001b[39m=\u001b[39;49m\u001b[39mself\u001b[39;49m\u001b[39m.\u001b[39;49mconvert_dtype\n\u001b[1;32m   1289\u001b[0m )\n\u001b[1;32m   1291\u001b[0m \u001b[39mif\u001b[39;00m \u001b[39mlen\u001b[39m(mapped) \u001b[39mand\u001b[39;00m \u001b[39misinstance\u001b[39m(mapped[\u001b[39m0\u001b[39m], ABCSeries):\n\u001b[1;32m   1292\u001b[0m     \u001b[39m# GH#43986 Need to do list(mapped) in order to get treated as nested\u001b[39;00m\n\u001b[1;32m   1293\u001b[0m     \u001b[39m#  See also GH#25959 regarding EA support\u001b[39;00m\n\u001b[1;32m   1294\u001b[0m     \u001b[39mreturn\u001b[39;00m obj\u001b[39m.\u001b[39m_constructor_expanddim(\u001b[39mlist\u001b[39m(mapped), index\u001b[39m=\u001b[39mobj\u001b[39m.\u001b[39mindex)\n",
      "File \u001b[0;32m/opt/miniconda3/envs/fintech/lib/python3.10/site-packages/pandas/core/base.py:921\u001b[0m, in \u001b[0;36mIndexOpsMixin._map_values\u001b[0;34m(self, mapper, na_action, convert)\u001b[0m\n\u001b[1;32m    918\u001b[0m \u001b[39mif\u001b[39;00m \u001b[39misinstance\u001b[39m(arr, ExtensionArray):\n\u001b[1;32m    919\u001b[0m     \u001b[39mreturn\u001b[39;00m arr\u001b[39m.\u001b[39mmap(mapper, na_action\u001b[39m=\u001b[39mna_action)\n\u001b[0;32m--> 921\u001b[0m \u001b[39mreturn\u001b[39;00m algorithms\u001b[39m.\u001b[39;49mmap_array(arr, mapper, na_action\u001b[39m=\u001b[39;49mna_action, convert\u001b[39m=\u001b[39;49mconvert)\n",
      "File \u001b[0;32m/opt/miniconda3/envs/fintech/lib/python3.10/site-packages/pandas/core/algorithms.py:1814\u001b[0m, in \u001b[0;36mmap_array\u001b[0;34m(arr, mapper, na_action, convert)\u001b[0m\n\u001b[1;32m   1812\u001b[0m values \u001b[39m=\u001b[39m arr\u001b[39m.\u001b[39mastype(\u001b[39mobject\u001b[39m, copy\u001b[39m=\u001b[39m\u001b[39mFalse\u001b[39;00m)\n\u001b[1;32m   1813\u001b[0m \u001b[39mif\u001b[39;00m na_action \u001b[39mis\u001b[39;00m \u001b[39mNone\u001b[39;00m:\n\u001b[0;32m-> 1814\u001b[0m     \u001b[39mreturn\u001b[39;00m lib\u001b[39m.\u001b[39;49mmap_infer(values, mapper, convert\u001b[39m=\u001b[39;49mconvert)\n\u001b[1;32m   1815\u001b[0m \u001b[39melse\u001b[39;00m:\n\u001b[1;32m   1816\u001b[0m     \u001b[39mreturn\u001b[39;00m lib\u001b[39m.\u001b[39mmap_infer_mask(\n\u001b[1;32m   1817\u001b[0m         values, mapper, mask\u001b[39m=\u001b[39misna(values)\u001b[39m.\u001b[39mview(np\u001b[39m.\u001b[39muint8), convert\u001b[39m=\u001b[39mconvert\n\u001b[1;32m   1818\u001b[0m     )\n",
      "File \u001b[0;32mlib.pyx:2920\u001b[0m, in \u001b[0;36mpandas._libs.lib.map_infer\u001b[0;34m()\u001b[0m\n",
      "\u001b[1;32m/Users/MicheleOrlandi/Desktop/MGT8803/crypto-sentiment-analysis/data_large.ipynb Cella 16\u001b[0m line \u001b[0;36m5\n\u001b[1;32m      <a href='vscode-notebook-cell:/Users/MicheleOrlandi/Desktop/MGT8803/crypto-sentiment-analysis/data_large.ipynb#X26sZmlsZQ%3D%3D?line=3'>4</a>\u001b[0m \u001b[39mdef\u001b[39;00m \u001b[39mget_sentiment\u001b[39m(text):\n\u001b[0;32m----> <a href='vscode-notebook-cell:/Users/MicheleOrlandi/Desktop/MGT8803/crypto-sentiment-analysis/data_large.ipynb#X26sZmlsZQ%3D%3D?line=4'>5</a>\u001b[0m     analyzer \u001b[39m=\u001b[39m SentimentIntensityAnalyzer()\n\u001b[1;32m      <a href='vscode-notebook-cell:/Users/MicheleOrlandi/Desktop/MGT8803/crypto-sentiment-analysis/data_large.ipynb#X26sZmlsZQ%3D%3D?line=5'>6</a>\u001b[0m     sentiment \u001b[39m=\u001b[39m analyzer\u001b[39m.\u001b[39mpolarity_scores(text)\n\u001b[1;32m      <a href='vscode-notebook-cell:/Users/MicheleOrlandi/Desktop/MGT8803/crypto-sentiment-analysis/data_large.ipynb#X26sZmlsZQ%3D%3D?line=6'>7</a>\u001b[0m     \u001b[39mreturn\u001b[39;00m sentiment[\u001b[39m'\u001b[39m\u001b[39mcompound\u001b[39m\u001b[39m'\u001b[39m]\n",
      "File \u001b[0;32m/opt/miniconda3/envs/fintech/lib/python3.10/site-packages/nltk/sentiment/vader.py:341\u001b[0m, in \u001b[0;36mSentimentIntensityAnalyzer.__init__\u001b[0;34m(self, lexicon_file)\u001b[0m\n\u001b[1;32m    336\u001b[0m \u001b[39mdef\u001b[39;00m \u001b[39m__init__\u001b[39m(\n\u001b[1;32m    337\u001b[0m     \u001b[39mself\u001b[39m,\n\u001b[1;32m    338\u001b[0m     lexicon_file\u001b[39m=\u001b[39m\u001b[39m\"\u001b[39m\u001b[39msentiment/vader_lexicon.zip/vader_lexicon/vader_lexicon.txt\u001b[39m\u001b[39m\"\u001b[39m,\n\u001b[1;32m    339\u001b[0m ):\n\u001b[1;32m    340\u001b[0m     \u001b[39mself\u001b[39m\u001b[39m.\u001b[39mlexicon_file \u001b[39m=\u001b[39m nltk\u001b[39m.\u001b[39mdata\u001b[39m.\u001b[39mload(lexicon_file)\n\u001b[0;32m--> 341\u001b[0m     \u001b[39mself\u001b[39m\u001b[39m.\u001b[39mlexicon \u001b[39m=\u001b[39m \u001b[39mself\u001b[39;49m\u001b[39m.\u001b[39;49mmake_lex_dict()\n\u001b[1;32m    342\u001b[0m     \u001b[39mself\u001b[39m\u001b[39m.\u001b[39mconstants \u001b[39m=\u001b[39m VaderConstants()\n",
      "File \u001b[0;32m/opt/miniconda3/envs/fintech/lib/python3.10/site-packages/nltk/sentiment/vader.py:351\u001b[0m, in \u001b[0;36mSentimentIntensityAnalyzer.make_lex_dict\u001b[0;34m(self)\u001b[0m\n\u001b[1;32m    349\u001b[0m \u001b[39mfor\u001b[39;00m line \u001b[39min\u001b[39;00m \u001b[39mself\u001b[39m\u001b[39m.\u001b[39mlexicon_file\u001b[39m.\u001b[39msplit(\u001b[39m\"\u001b[39m\u001b[39m\\n\u001b[39;00m\u001b[39m\"\u001b[39m):\n\u001b[1;32m    350\u001b[0m     (word, measure) \u001b[39m=\u001b[39m line\u001b[39m.\u001b[39mstrip()\u001b[39m.\u001b[39msplit(\u001b[39m\"\u001b[39m\u001b[39m\\t\u001b[39;00m\u001b[39m\"\u001b[39m)[\u001b[39m0\u001b[39m:\u001b[39m2\u001b[39m]\n\u001b[0;32m--> 351\u001b[0m     lex_dict[word] \u001b[39m=\u001b[39m \u001b[39mfloat\u001b[39;49m(measure)\n\u001b[1;32m    352\u001b[0m \u001b[39mreturn\u001b[39;00m lex_dict\n",
      "\u001b[0;31mKeyboardInterrupt\u001b[0m: "
     ]
    }
   ],
   "source": [
    "#sentiment analysis for postive or negative\n",
    "nltk.download('vader_lexicon')\n",
    "\n",
    "def get_sentiment(text):\n",
    "    analyzer = SentimentIntensityAnalyzer()\n",
    "    sentiment = analyzer.polarity_scores(text)\n",
    "    return sentiment['compound']\n",
    "    \n",
    "tweets['sentiment_score'] = tweets['text'].apply(get_sentiment)"
   ]
  }
 ],
 "metadata": {
  "kernelspec": {
   "display_name": "fintech",
   "language": "python",
   "name": "python3"
  },
  "language_info": {
   "codemirror_mode": {
    "name": "ipython",
    "version": 3
   },
   "file_extension": ".py",
   "mimetype": "text/x-python",
   "name": "python",
   "nbconvert_exporter": "python",
   "pygments_lexer": "ipython3",
   "version": "3.10.13"
  }
 },
 "nbformat": 4,
 "nbformat_minor": 2
}
